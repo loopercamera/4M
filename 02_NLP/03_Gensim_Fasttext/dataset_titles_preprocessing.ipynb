{
 "cells": [
  {
   "cell_type": "code",
   "execution_count": null,
   "metadata": {},
   "outputs": [],
   "source": [
    "import pandas as pd\n",
    "\n",
    "# load csv\n",
    "df= pd.read_csv(\"data/dataset_titles.csv\", delimiter=';')"
   ]
  },
  {
   "cell_type": "code",
   "execution_count": 10,
   "metadata": {},
   "outputs": [],
   "source": [
    "import re\n",
    "\n",
    "# Function for text preprocessing\n",
    "def preprocess(text):\n",
    "    # Remove duplicate terms\n",
    "    text = re.sub(r'(\\b\\w+(?: \\(\\w+\\))?\\b)(, \\1)+', r'\\1', text)\n",
    "    # Remove square brackets and their content\n",
    "    text = re.sub(r'\\[.*?\\]', '', text)\n",
    "    # Remove round brackets and their content\n",
    "    text = re.sub(r'\\(.*?\\)', '', text)\n",
    "    # Remove all words containing a dot\n",
    "    text = re.sub(r'\\b\\w*\\.\\w*\\b', '', text)\n",
    "    # Remove file formats\n",
    "    text = re.sub(r'\\b\\w+\\.(csv|json|shp|xls|parquet|rdfxml|jsonld|jsonl|dxf|gpkg|turtle)\\b', '', text)\n",
    "    # Replace \"+\" with a space\n",
    "    text = re.sub(r'\\+', ' ', text)\n",
    "    # Replace \"#\" and \"|\" with a space\n",
    "    text = re.sub(r'[#|]', ' ', text)\n",
    "    # Remove excessive hyphens and spaces\n",
    "    text = re.sub(r'[-]+', ' ', text)\n",
    "    # Remove punctuation marks\n",
    "    text = re.sub(r'[,.«»‚’°%*:;!?\\'\"/]', '', text)\n",
    "    # Remove all words containing an underscore\n",
    "    text = re.sub(r'\\b\\w*_\\w*\\b', '', text)\n",
    "    # Remove all numbers\n",
    "    text = re.sub(r'\\b\\d+\\b', '', text)\n",
    "    # Remove single standalone letters\n",
    "    text = re.sub(r'\\b\\w\\b', '', text)\n",
    "    # Clean up double spaces\n",
    "    text = re.sub(r'\\s+', ' ', text)\n",
    "\n",
    "    return text.strip().lower()"
   ]
  },
  {
   "cell_type": "code",
   "execution_count": 11,
   "metadata": {},
   "outputs": [],
   "source": [
    "# remove commas\n",
    "df['dataset_title_DE'] = df['dataset_title_DE'].map(lambda x: preprocess(str(x)) if pd.notna(x) else x)"
   ]
  },
  {
   "cell_type": "code",
   "execution_count": null,
   "metadata": {},
   "outputs": [],
   "source": [
    "# removes all duplicate titles\n",
    "df.dropna(subset=['dataset_title_DE']) \\\n",
    "  .drop_duplicates(subset=['dataset_title_DE']) \\\n",
    "  .to_csv(\n",
    "      \"data/dataset_titles_preprocessed.txt\",\n",
    "      columns=[\"dataset_title_DE\"],\n",
    "      header=None,\n",
    "      index=False\n",
    "  )"
   ]
  }
 ],
 "metadata": {
  "kernelspec": {
   "display_name": "Python 3",
   "language": "python",
   "name": "python3"
  },
  "language_info": {
   "codemirror_mode": {
    "name": "ipython",
    "version": 3
   },
   "file_extension": ".py",
   "mimetype": "text/x-python",
   "name": "python",
   "nbconvert_exporter": "python",
   "pygments_lexer": "ipython3",
   "version": "3.10.10"
  }
 },
 "nbformat": 4,
 "nbformat_minor": 2
}
