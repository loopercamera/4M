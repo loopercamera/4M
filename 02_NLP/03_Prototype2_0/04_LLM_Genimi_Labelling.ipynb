{
 "cells": [
  {
   "cell_type": "code",
   "execution_count": 45,
   "id": "ded79812",
   "metadata": {},
   "outputs": [],
   "source": [
    "import pandas as pd\n",
    "import numpy as np\n",
    "from google import genai\n",
    "from google.genai import types\n",
    "import json\n",
    "from tqdm import tqdm\n",
    "from itertools import cycle\n",
    "import time\n",
    "\n",
    "inputdata_file = 'data/merged_dataset_metadata.csv'\n",
    "outputdata_file ='data/merged_dataset_metadata_labelled.csv'\n",
    "\n",
    "with open(\"data/apikeys.json\") as f:\n",
    "    config = json.load(f)\n",
    "API_KEYS = config[\"GOOGLE_API_KEYS\"]\n",
    "API_KEYS_CYCLE = cycle(API_KEYS)"
   ]
  },
  {
   "cell_type": "code",
   "execution_count": 46,
   "id": "1c1b8823",
   "metadata": {},
   "outputs": [
    {
     "name": "stdout",
     "output_type": "stream",
     "text": [
      "Index 1: Number of rows with only filled dataset_description_DE and dataset_title_DE: 20213\n",
      "Index 2: Remaining number of rows with only filled dataset_description_DE: 68\n",
      "Index 3: Remaining number of rows with only filled dataset_description_EN and dataset_title_EN: 500\n",
      "Index 4: Remaining number of rows with only filled dataset_description_EN: 0\n",
      "Index 5: Remaining number of rows with only filled dataset_description_FR and dataset_title_FR: 1304\n",
      "Index 6: Remaining number of rows with only filled dataset_description_FR: 0\n",
      "Index 7: Remaining number of rows with only filled dataset_description_IT and dataset_title_IT: 30\n",
      "Index 8: Remaining number of rows with only filled dataset_description_IT: 0\n",
      "Index 9: Remaining number of rows with only filled dataset_description and dataset_title: 4611\n",
      "Index 10: Remaining number of rows with only filled dataset_description: 0\n",
      "Index 11: Remaining number of rows with only filled dataset_title_DE: 1697\n",
      "Index 12: Remaining number of rows with only filled dataset_title_EN: 2\n",
      "Index 13: Remaining number of rows with only filled dataset_title_FR: 0\n",
      "Index 14: Remaining number of rows with only filled dataset_title_IT: 0\n",
      "Index 15: Remaining number of rows with only filled dataset_title: 444\n",
      "Index 16: Remaining number of rows with only filled dataset_description_UNKNOWN and dataset_title_UNKNOWN: 0\n",
      "Index 17: Remaining number of rows with only filled dataset_description_UNKNOWN: 0\n",
      "Index 18: Remaining number of rows with only filled dataset_title_UNKNOWN: 210\n",
      "All rows (29079/29079) have been successfully assigned an iteration_index.\n"
     ]
    }
   ],
   "source": [
    "# Load dataset\n",
    "df = pd.read_csv(inputdata_file, low_memory=False)\n",
    "# Random sampling of 1000 rows\n",
    "# df = df.sample(n=1000, random_state=42)\n",
    "\n",
    "# Initialize output column\n",
    "df['mobilitydata_labelled'] = None\n",
    "\n",
    "# Assigning an index to each row based on the presence of content in specific cells\n",
    "\n",
    "# Index 1:\n",
    "df['iteration_index'] = np.where(\n",
    "    (~df['dataset_description_DE'].isna() & (df['dataset_description_DE'].astype(str).str.strip() != '')) &\n",
    "    (~df['dataset_title_DE'].isna() & (df['dataset_title_DE'].astype(str).str.strip() != '')),\n",
    "    1,\n",
    "    None\n",
    ")\n",
    "print(f\"Index 1: Number of rows with only filled dataset_description_DE and dataset_title_DE: {(df['iteration_index'] == 1).sum()}\")\n",
    "\n",
    "# Index 2:\n",
    "df['iteration_index'] = np.where(\n",
    "    df['iteration_index'].isna() &\n",
    "    (~df['dataset_description_DE'].isna() & (df['dataset_description_DE'].astype(str).str.strip() != '')),\n",
    "    2,\n",
    "    df['iteration_index']\n",
    ")\n",
    "print(f\"Index 2: Remaining number of rows with only filled dataset_description_DE: {(df['iteration_index'] == 2).sum()}\")\n",
    "\n",
    "# Index 3:\n",
    "df['iteration_index'] = np.where(\n",
    "    df['iteration_index'].isna() &\n",
    "    (~df['dataset_description_EN'].isna() & (df['dataset_description_EN'].astype(str).str.strip() != '')) &\n",
    "    (~df['dataset_title_EN'].isna() & (df['dataset_title_EN'].astype(str).str.strip() != '')),\n",
    "    3,\n",
    "    df['iteration_index']\n",
    ")\n",
    "print(f\"Index 3: Remaining number of rows with only filled dataset_description_EN and dataset_title_EN: {(df['iteration_index'] == 3).sum()}\")\n",
    "\n",
    "# Index 4:\n",
    "df['iteration_index'] = np.where(\n",
    "    df['iteration_index'].isna() &\n",
    "    (~df['dataset_description_EN'].isna() & (df['dataset_description_EN'].astype(str).str.strip() != '')),\n",
    "    4,\n",
    "    df['iteration_index']\n",
    ")\n",
    "print(f\"Index 4: Remaining number of rows with only filled dataset_description_EN: {(df['iteration_index'] == 4).sum()}\")\n",
    "\n",
    "# Index 5:\n",
    "df['iteration_index'] = np.where(\n",
    "    df['iteration_index'].isna() &\n",
    "    (~df['dataset_description_FR'].isna() & (df['dataset_description_FR'].astype(str).str.strip() != '')) &\n",
    "    (~df['dataset_title_FR'].isna() & (df['dataset_title_FR'].astype(str).str.strip() != '')),\n",
    "    5,\n",
    "    df['iteration_index']\n",
    ")\n",
    "print(f\"Index 5: Remaining number of rows with only filled dataset_description_FR and dataset_title_FR: {(df['iteration_index'] == 5).sum()}\")\n",
    "\n",
    "# Index 6:\n",
    "df['iteration_index'] = np.where(\n",
    "    df['iteration_index'].isna() &\n",
    "    (~df['dataset_description_FR'].isna() & (df['dataset_description_FR'].astype(str).str.strip() != '')),\n",
    "    6,\n",
    "    df['iteration_index']\n",
    ")\n",
    "print(f\"Index 6: Remaining number of rows with only filled dataset_description_FR: {(df['iteration_index'] == 6).sum()}\")\n",
    "\n",
    "# Index 7:\n",
    "df['iteration_index'] = np.where(\n",
    "    df['iteration_index'].isna() &\n",
    "    (~df['dataset_description_IT'].isna() & (df['dataset_description_IT'].astype(str).str.strip() != '')) &\n",
    "    (~df['dataset_title_IT'].isna() & (df['dataset_title_IT'].astype(str).str.strip() != '')),\n",
    "    7,\n",
    "    df['iteration_index']\n",
    ")\n",
    "print(f\"Index 7: Remaining number of rows with only filled dataset_description_IT and dataset_title_IT: {(df['iteration_index'] == 7).sum()}\")\n",
    "\n",
    "# Index 8:\n",
    "df['iteration_index'] = np.where(\n",
    "    df['iteration_index'].isna() &\n",
    "    (~df['dataset_description_IT'].isna() & (df['dataset_description_IT'].astype(str).str.strip() != '')),\n",
    "    8,\n",
    "    df['iteration_index']\n",
    ")\n",
    "print(f\"Index 8: Remaining number of rows with only filled dataset_description_IT: {(df['iteration_index'] == 8).sum()}\")\n",
    "\n",
    "# Index 9:\n",
    "df['iteration_index'] = np.where(\n",
    "    df['iteration_index'].isna() &\n",
    "    (~df['dataset_description'].isna() & (df['dataset_description'].astype(str).str.strip() != '')) &\n",
    "    (~df['dataset_title'].isna() & (df['dataset_title'].astype(str).str.strip() != '')),\n",
    "    9,\n",
    "    df['iteration_index']\n",
    ")\n",
    "print(f\"Index 9: Remaining number of rows with only filled dataset_description and dataset_title: {(df['iteration_index'] == 9).sum()}\")\n",
    "\n",
    "# Index 10:\n",
    "df['iteration_index'] = np.where(\n",
    "    df['iteration_index'].isna() &\n",
    "    (~df['dataset_description'].isna() & (df['dataset_description'].astype(str).str.strip() != '')),\n",
    "    10,\n",
    "    df['iteration_index']\n",
    ")\n",
    "print(f\"Index 10: Remaining number of rows with only filled dataset_description: {(df['iteration_index'] == 10).sum()}\")\n",
    "\n",
    "# Index 11:\n",
    "df['iteration_index'] = np.where(\n",
    "    df['iteration_index'].isna() &\n",
    "    (~df['dataset_title_DE'].isna() & (df['dataset_title_DE'].astype(str).str.strip() != '')),\n",
    "    11,\n",
    "    df['iteration_index']\n",
    ")\n",
    "print(f\"Index 11: Remaining number of rows with only filled dataset_title_DE: {(df['iteration_index'] == 11).sum()}\")\n",
    "\n",
    "# Index 12:\n",
    "df['iteration_index'] = np.where(\n",
    "    df['iteration_index'].isna() &\n",
    "    (~df['dataset_title_EN'].isna() & (df['dataset_title_EN'].astype(str).str.strip() != '')),\n",
    "    12,\n",
    "    df['iteration_index']\n",
    ")\n",
    "print(f\"Index 12: Remaining number of rows with only filled dataset_title_EN: {(df['iteration_index'] == 12).sum()}\")\n",
    "\n",
    "# Index 13:\n",
    "df['iteration_index'] = np.where(\n",
    "    df['iteration_index'].isna() &\n",
    "    (~df['dataset_title_FR'].isna() & (df['dataset_title_FR'].astype(str).str.strip() != '')),\n",
    "    13,\n",
    "    df['iteration_index']\n",
    ")\n",
    "print(f\"Index 13: Remaining number of rows with only filled dataset_title_FR: {(df['iteration_index'] == 13).sum()}\")\n",
    "\n",
    "# Index 14:\n",
    "df['iteration_index'] = np.where(\n",
    "    df['iteration_index'].isna() &\n",
    "    (~df['dataset_title_IT'].isna() & (df['dataset_title_IT'].astype(str).str.strip() != '')),\n",
    "    14,\n",
    "    df['iteration_index']\n",
    ")\n",
    "print(f\"Index 14: Remaining number of rows with only filled dataset_title_IT: {(df['iteration_index'] == 14).sum()}\")\n",
    "\n",
    "# Index 15:\n",
    "df['iteration_index'] = np.where(\n",
    "    df['iteration_index'].isna() &\n",
    "    (~df['dataset_title'].isna() & (df['dataset_title'].astype(str).str.strip() != '')),\n",
    "    15,\n",
    "    df['iteration_index']\n",
    ")\n",
    "print(f\"Index 15: Remaining number of rows with only filled dataset_title: {(df['iteration_index'] == 15).sum()}\")\n",
    "\n",
    "# Index 16:\n",
    "df['iteration_index'] = np.where(\n",
    "    df['iteration_index'].isna() &\n",
    "    (~df['dataset_description_UNKNOWN'].isna() & (df['dataset_description_UNKNOWN'].astype(str).str.strip() != '')) &\n",
    "    (~df['dataset_title_UNKNOWN'].isna() & (df['dataset_title_UNKNOWN'].astype(str).str.strip() != '')),\n",
    "    16,\n",
    "    df['iteration_index']\n",
    ")\n",
    "print(f\"Index 16: Remaining number of rows with only filled dataset_description_UNKNOWN and dataset_title_UNKNOWN: {(df['iteration_index'] == 16).sum()}\")\n",
    "\n",
    "# Index 17:\n",
    "df['iteration_index'] = np.where(\n",
    "    df['iteration_index'].isna() &\n",
    "    (~df['dataset_description_UNKNOWN'].isna() & (df['dataset_description_UNKNOWN'].astype(str).str.strip() != '')),\n",
    "    17,\n",
    "    df['iteration_index']\n",
    ")\n",
    "print(f\"Index 17: Remaining number of rows with only filled dataset_description_UNKNOWN: {(df['iteration_index'] == 17).sum()}\")\n",
    "\n",
    "# Index 18:\n",
    "df['iteration_index'] = np.where(\n",
    "    df['iteration_index'].isna() &\n",
    "    (~df['dataset_title_UNKNOWN'].isna() & (df['dataset_title_UNKNOWN'].astype(str).str.strip() != '')),\n",
    "    18,\n",
    "    df['iteration_index']\n",
    ")\n",
    "print(f\"Index 18: Remaining number of rows with only filled dataset_title_UNKNOWN: {(df['iteration_index'] == 18).sum()}\")\n",
    "\n",
    "# Check if all rows have been assigned an index.\n",
    "if (df['iteration_index'] < 20).sum() < len(df):\n",
    "    missing_rows = df[df['iteration_index'].isna()]\n",
    "    print(\"ERROR: Not all rows have been assigned an iteration_index.\")\n",
    "    print(f\"Number of rows without index: {len(missing_rows)}\")\n",
    "    print(\"Example rows without index:\")\n",
    "    print(missing_rows.head(5))\n",
    "else:\n",
    "    print(f\"All rows ({(df['iteration_index'] < 20).sum()}/{len(df)}) have been successfully assigned an iteration_index.\")"
   ]
  },
  {
   "cell_type": "code",
   "execution_count": 47,
   "id": "1cada582",
   "metadata": {},
   "outputs": [
    {
     "name": "stdout",
     "output_type": "stream",
     "text": [
      "Processing group: 1 with 20213 entries\n"
     ]
    },
    {
     "name": "stderr",
     "output_type": "stream",
     "text": [
      "  0%|          | 0/4043 [00:00<?, ?it/s]"
     ]
    },
    {
     "name": "stderr",
     "output_type": "stream",
     "text": [
      "  3%|▎         | 137/4043 [02:59<1:24:41,  1.30s/it]"
     ]
    },
    {
     "name": "stdout",
     "output_type": "stream",
     "text": [
      "Maximum requests per minute reached. Waiting 1 seconds...\n"
     ]
    },
    {
     "name": "stderr",
     "output_type": "stream",
     "text": [
      "  5%|▍         | 184/4043 [04:01<1:23:12,  1.29s/it]"
     ]
    },
    {
     "name": "stdout",
     "output_type": "stream",
     "text": [
      "Maximum requests per minute reached. Waiting 0 seconds...\n"
     ]
    },
    {
     "name": "stderr",
     "output_type": "stream",
     "text": [
      "  6%|▌         | 229/4043 [05:00<1:22:50,  1.30s/it]"
     ]
    },
    {
     "name": "stdout",
     "output_type": "stream",
     "text": [
      "Maximum requests per minute reached. Waiting 1 seconds...\n"
     ]
    },
    {
     "name": "stderr",
     "output_type": "stream",
     "text": [
      "  7%|▋         | 274/4043 [06:01<1:24:48,  1.35s/it]"
     ]
    },
    {
     "name": "stdout",
     "output_type": "stream",
     "text": [
      "Maximum requests per minute reached. Waiting 1 seconds...\n"
     ]
    },
    {
     "name": "stderr",
     "output_type": "stream",
     "text": [
      "  8%|▊         | 319/4043 [07:02<1:19:54,  1.29s/it]"
     ]
    },
    {
     "name": "stdout",
     "output_type": "stream",
     "text": [
      "Maximum requests per minute reached. Waiting 0 seconds...\n"
     ]
    },
    {
     "name": "stderr",
     "output_type": "stream",
     "text": [
      "  9%|▉         | 364/4043 [08:02<1:19:36,  1.30s/it]"
     ]
    },
    {
     "name": "stdout",
     "output_type": "stream",
     "text": [
      "Maximum requests per minute reached. Waiting 1 seconds...\n"
     ]
    },
    {
     "name": "stderr",
     "output_type": "stream",
     "text": [
      " 11%|█▏        | 455/4043 [10:05<1:19:57,  1.34s/it]"
     ]
    },
    {
     "name": "stdout",
     "output_type": "stream",
     "text": [
      "Maximum requests per minute reached. Waiting 0 seconds...\n"
     ]
    },
    {
     "name": "stderr",
     "output_type": "stream",
     "text": [
      " 14%|█▎        | 547/4043 [12:05<1:16:29,  1.31s/it]"
     ]
    },
    {
     "name": "stdout",
     "output_type": "stream",
     "text": [
      "Maximum requests per minute reached. Waiting 0 seconds...\n"
     ]
    },
    {
     "name": "stderr",
     "output_type": "stream",
     "text": [
      " 16%|█▌        | 639/4043 [14:06<1:14:48,  1.32s/it]"
     ]
    },
    {
     "name": "stdout",
     "output_type": "stream",
     "text": [
      "Maximum requests per minute reached. Waiting 0 seconds...\n"
     ]
    },
    {
     "name": "stderr",
     "output_type": "stream",
     "text": [
      " 17%|█▋        | 685/4043 [15:07<1:11:59,  1.29s/it]"
     ]
    },
    {
     "name": "stdout",
     "output_type": "stream",
     "text": [
      "Maximum requests per minute reached. Waiting 0 seconds...\n"
     ]
    },
    {
     "name": "stderr",
     "output_type": "stream",
     "text": [
      " 18%|█▊        | 730/4043 [16:07<1:09:11,  1.25s/it]"
     ]
    },
    {
     "name": "stdout",
     "output_type": "stream",
     "text": [
      "Maximum requests per minute reached. Waiting 1 seconds...\n"
     ]
    },
    {
     "name": "stderr",
     "output_type": "stream",
     "text": [
      " 19%|█▉        | 775/4043 [17:08<1:10:02,  1.29s/it]"
     ]
    },
    {
     "name": "stdout",
     "output_type": "stream",
     "text": [
      "Maximum requests per minute reached. Waiting 1 seconds...\n"
     ]
    },
    {
     "name": "stderr",
     "output_type": "stream",
     "text": [
      " 20%|██        | 821/4043 [18:09<1:08:50,  1.28s/it]"
     ]
    },
    {
     "name": "stdout",
     "output_type": "stream",
     "text": [
      "Maximum requests per minute reached. Waiting 0 seconds...\n"
     ]
    },
    {
     "name": "stderr",
     "output_type": "stream",
     "text": [
      " 23%|██▎       | 915/4043 [20:11<1:04:16,  1.23s/it]"
     ]
    },
    {
     "name": "stdout",
     "output_type": "stream",
     "text": [
      "Maximum requests per minute reached. Waiting 0 seconds...\n"
     ]
    },
    {
     "name": "stderr",
     "output_type": "stream",
     "text": [
      " 24%|██▎       | 960/4043 [21:10<1:06:14,  1.29s/it]"
     ]
    },
    {
     "name": "stdout",
     "output_type": "stream",
     "text": [
      "Maximum requests per minute reached. Waiting 1 seconds...\n"
     ]
    },
    {
     "name": "stderr",
     "output_type": "stream",
     "text": [
      " 25%|██▍       | 1006/4043 [22:11<1:05:15,  1.29s/it]"
     ]
    },
    {
     "name": "stdout",
     "output_type": "stream",
     "text": [
      "Maximum requests per minute reached. Waiting 1 seconds...\n"
     ]
    },
    {
     "name": "stderr",
     "output_type": "stream",
     "text": [
      " 26%|██▌       | 1051/4043 [23:12<1:04:14,  1.29s/it]"
     ]
    },
    {
     "name": "stdout",
     "output_type": "stream",
     "text": [
      "Maximum requests per minute reached. Waiting 0 seconds...\n"
     ]
    },
    {
     "name": "stderr",
     "output_type": "stream",
     "text": [
      " 27%|██▋       | 1096/4043 [24:12<1:03:54,  1.30s/it]"
     ]
    },
    {
     "name": "stdout",
     "output_type": "stream",
     "text": [
      "Maximum requests per minute reached. Waiting 0 seconds...\n"
     ]
    },
    {
     "name": "stderr",
     "output_type": "stream",
     "text": [
      " 28%|██▊       | 1141/4043 [25:12<1:02:24,  1.29s/it]"
     ]
    },
    {
     "name": "stdout",
     "output_type": "stream",
     "text": [
      "Maximum requests per minute reached. Waiting 0 seconds...\n"
     ]
    },
    {
     "name": "stderr",
     "output_type": "stream",
     "text": [
      " 29%|██▉       | 1187/4043 [26:13<1:04:48,  1.36s/it]"
     ]
    },
    {
     "name": "stdout",
     "output_type": "stream",
     "text": [
      "Maximum requests per minute reached. Waiting 0 seconds...\n"
     ]
    },
    {
     "name": "stderr",
     "output_type": "stream",
     "text": [
      " 32%|███▏      | 1279/4043 [28:15<59:17,  1.29s/it]  "
     ]
    },
    {
     "name": "stdout",
     "output_type": "stream",
     "text": [
      "Maximum requests per minute reached. Waiting 0 seconds...\n"
     ]
    },
    {
     "name": "stderr",
     "output_type": "stream",
     "text": [
      " 33%|███▎      | 1325/4043 [29:16<59:37,  1.32s/it]  "
     ]
    },
    {
     "name": "stdout",
     "output_type": "stream",
     "text": [
      "Maximum requests per minute reached. Waiting 0 seconds...\n"
     ]
    },
    {
     "name": "stderr",
     "output_type": "stream",
     "text": [
      " 34%|███▍      | 1371/4043 [30:15<57:18,  1.29s/it]  "
     ]
    },
    {
     "name": "stdout",
     "output_type": "stream",
     "text": [
      "Maximum requests per minute reached. Waiting 1 seconds...\n"
     ]
    },
    {
     "name": "stderr",
     "output_type": "stream",
     "text": [
      " 35%|███▌      | 1418/4043 [31:17<58:22,  1.33s/it]  "
     ]
    },
    {
     "name": "stdout",
     "output_type": "stream",
     "text": [
      "Maximum requests per minute reached. Waiting 0 seconds...\n"
     ]
    },
    {
     "name": "stderr",
     "output_type": "stream",
     "text": [
      " 36%|███▌      | 1464/4043 [32:18<56:44,  1.32s/it]  "
     ]
    },
    {
     "name": "stdout",
     "output_type": "stream",
     "text": [
      "Maximum requests per minute reached. Waiting 0 seconds...\n"
     ]
    },
    {
     "name": "stderr",
     "output_type": "stream",
     "text": [
      " 37%|███▋      | 1509/4043 [33:17<54:54,  1.30s/it]  "
     ]
    },
    {
     "name": "stdout",
     "output_type": "stream",
     "text": [
      "Maximum requests per minute reached. Waiting 1 seconds...\n"
     ]
    },
    {
     "name": "stderr",
     "output_type": "stream",
     "text": [
      " 38%|███▊      | 1555/4043 [34:18<53:01,  1.28s/it]  "
     ]
    },
    {
     "name": "stdout",
     "output_type": "stream",
     "text": [
      "Maximum requests per minute reached. Waiting 0 seconds...\n"
     ]
    },
    {
     "name": "stderr",
     "output_type": "stream",
     "text": [
      " 40%|███▉      | 1600/4043 [35:18<52:37,  1.29s/it]  "
     ]
    },
    {
     "name": "stdout",
     "output_type": "stream",
     "text": [
      "Maximum requests per minute reached. Waiting 1 seconds...\n"
     ]
    },
    {
     "name": "stderr",
     "output_type": "stream",
     "text": [
      " 41%|████      | 1645/4043 [36:19<51:47,  1.30s/it]  "
     ]
    },
    {
     "name": "stdout",
     "output_type": "stream",
     "text": [
      "Maximum requests per minute reached. Waiting 0 seconds...\n"
     ]
    },
    {
     "name": "stderr",
     "output_type": "stream",
     "text": [
      " 42%|████▏     | 1690/4043 [37:19<52:02,  1.33s/it]  "
     ]
    },
    {
     "name": "stdout",
     "output_type": "stream",
     "text": [
      "Maximum requests per minute reached. Waiting 0 seconds...\n"
     ]
    },
    {
     "name": "stderr",
     "output_type": "stream",
     "text": [
      " 44%|████▍     | 1782/4043 [39:21<49:50,  1.32s/it]  "
     ]
    },
    {
     "name": "stdout",
     "output_type": "stream",
     "text": [
      "Maximum requests per minute reached. Waiting 0 seconds...\n"
     ]
    },
    {
     "name": "stderr",
     "output_type": "stream",
     "text": [
      " 46%|████▋     | 1874/4043 [41:22<46:35,  1.29s/it]  "
     ]
    },
    {
     "name": "stdout",
     "output_type": "stream",
     "text": [
      "Maximum requests per minute reached. Waiting 0 seconds...\n"
     ]
    },
    {
     "name": "stderr",
     "output_type": "stream",
     "text": [
      " 48%|████▊     | 1921/4043 [42:23<46:00,  1.30s/it]"
     ]
    },
    {
     "name": "stdout",
     "output_type": "stream",
     "text": [
      "Maximum requests per minute reached. Waiting 0 seconds...\n"
     ]
    },
    {
     "name": "stderr",
     "output_type": "stream",
     "text": [
      " 51%|█████     | 2059/4043 [45:24<43:07,  1.30s/it]"
     ]
    },
    {
     "name": "stdout",
     "output_type": "stream",
     "text": [
      "Maximum requests per minute reached. Waiting 0 seconds...\n"
     ]
    },
    {
     "name": "stderr",
     "output_type": "stream",
     "text": [
      " 52%|█████▏    | 2104/4043 [46:24<43:23,  1.34s/it]"
     ]
    },
    {
     "name": "stdout",
     "output_type": "stream",
     "text": [
      "Maximum requests per minute reached. Waiting 0 seconds...\n"
     ]
    },
    {
     "name": "stderr",
     "output_type": "stream",
     "text": [
      " 58%|█████▊    | 2332/4043 [51:27<37:05,  1.30s/it]"
     ]
    },
    {
     "name": "stdout",
     "output_type": "stream",
     "text": [
      "Maximum requests per minute reached. Waiting 0 seconds...\n"
     ]
    },
    {
     "name": "stderr",
     "output_type": "stream",
     "text": [
      " 59%|█████▉    | 2377/4043 [52:27<36:24,  1.31s/it]"
     ]
    },
    {
     "name": "stdout",
     "output_type": "stream",
     "text": [
      "Maximum requests per minute reached. Waiting 0 seconds...\n"
     ]
    },
    {
     "name": "stderr",
     "output_type": "stream",
     "text": [
      " 63%|██████▎   | 2562/4043 [56:29<32:33,  1.32s/it]"
     ]
    },
    {
     "name": "stdout",
     "output_type": "stream",
     "text": [
      "Maximum requests per minute reached. Waiting 0 seconds...\n"
     ]
    },
    {
     "name": "stderr",
     "output_type": "stream",
     "text": [
      " 67%|██████▋   | 2711/4043 [59:46<29:22,  1.32s/it]\n"
     ]
    },
    {
     "ename": "ClientError",
     "evalue": "429 RESOURCE_EXHAUSTED. {'error': {'code': 429, 'message': 'You exceeded your current quota, please check your plan and billing details. For more information on this error, head to: https://ai.google.dev/gemini-api/docs/rate-limits.', 'status': 'RESOURCE_EXHAUSTED', 'details': [{'@type': 'type.googleapis.com/google.rpc.QuotaFailure', 'violations': [{'quotaMetric': 'generativelanguage.googleapis.com/generate_content_free_tier_requests', 'quotaId': 'GenerateRequestsPerDayPerProjectPerModel-FreeTier', 'quotaDimensions': {'location': 'global', 'model': 'gemini-2.0-flash-lite'}, 'quotaValue': '1500'}]}, {'@type': 'type.googleapis.com/google.rpc.Help', 'links': [{'description': 'Learn more about Gemini API quotas', 'url': 'https://ai.google.dev/gemini-api/docs/rate-limits'}]}, {'@type': 'type.googleapis.com/google.rpc.RetryInfo', 'retryDelay': '49s'}]}}",
     "output_type": "error",
     "traceback": [
      "\u001b[1;31m---------------------------------------------------------------------------\u001b[0m",
      "\u001b[1;31mClientError\u001b[0m                               Traceback (most recent call last)",
      "Cell \u001b[1;32mIn[47], line 80\u001b[0m\n\u001b[0;32m     70\u001b[0m response \u001b[38;5;241m=\u001b[39m client\u001b[38;5;241m.\u001b[39mmodels\u001b[38;5;241m.\u001b[39mgenerate_content_stream(\n\u001b[0;32m     71\u001b[0m     model\u001b[38;5;241m=\u001b[39m\u001b[38;5;124m\"\u001b[39m\u001b[38;5;124mgemini-2.0-flash-lite-001\u001b[39m\u001b[38;5;124m\"\u001b[39m,\n\u001b[0;32m     72\u001b[0m     contents\u001b[38;5;241m=\u001b[39m[prompt],\n\u001b[1;32m   (...)\u001b[0m\n\u001b[0;32m     76\u001b[0m     )\n\u001b[0;32m     77\u001b[0m )\n\u001b[0;32m     79\u001b[0m result_text \u001b[38;5;241m=\u001b[39m \u001b[38;5;124m\"\u001b[39m\u001b[38;5;124m\"\u001b[39m\n\u001b[1;32m---> 80\u001b[0m \u001b[38;5;28;01mfor\u001b[39;00m chunk \u001b[38;5;129;01min\u001b[39;00m response:\n\u001b[0;32m     81\u001b[0m     result_text \u001b[38;5;241m+\u001b[39m\u001b[38;5;241m=\u001b[39m chunk\u001b[38;5;241m.\u001b[39mtext\n\u001b[0;32m     83\u001b[0m predictions \u001b[38;5;241m=\u001b[39m result_text\u001b[38;5;241m.\u001b[39mstrip()\u001b[38;5;241m.\u001b[39msplitlines()\n",
      "File \u001b[1;32mc:\\Users\\haabs\\anaconda3\\envs\\bth\\lib\\site-packages\\google\\genai\\models.py:5096\u001b[0m, in \u001b[0;36mModels.generate_content_stream\u001b[1;34m(self, model, contents, config)\u001b[0m\n\u001b[0;32m   5090\u001b[0m function_map \u001b[38;5;241m=\u001b[39m _extra_utils\u001b[38;5;241m.\u001b[39mget_function_map(config)\n\u001b[0;32m   5092\u001b[0m \u001b[38;5;28;01mif\u001b[39;00m i \u001b[38;5;241m==\u001b[39m \u001b[38;5;241m1\u001b[39m:\n\u001b[0;32m   5093\u001b[0m   \u001b[38;5;66;03m# First request gets a function call.\u001b[39;00m\n\u001b[0;32m   5094\u001b[0m   \u001b[38;5;66;03m# Then get function response parts.\u001b[39;00m\n\u001b[0;32m   5095\u001b[0m   \u001b[38;5;66;03m# Yield chunks only if there's no function response parts.\u001b[39;00m\n\u001b[1;32m-> 5096\u001b[0m   \u001b[38;5;28;01mfor\u001b[39;00m chunk \u001b[38;5;129;01min\u001b[39;00m response:\n\u001b[0;32m   5097\u001b[0m     \u001b[38;5;28;01mif\u001b[39;00m \u001b[38;5;129;01mnot\u001b[39;00m function_map:\n\u001b[0;32m   5098\u001b[0m       \u001b[38;5;28;01myield\u001b[39;00m chunk\n",
      "File \u001b[1;32mc:\\Users\\haabs\\anaconda3\\envs\\bth\\lib\\site-packages\\google\\genai\\models.py:4008\u001b[0m, in \u001b[0;36mModels._generate_content_stream\u001b[1;34m(self, model, contents, config)\u001b[0m\n\u001b[0;32m   4005\u001b[0m request_dict \u001b[38;5;241m=\u001b[39m _common\u001b[38;5;241m.\u001b[39mconvert_to_dict(request_dict)\n\u001b[0;32m   4006\u001b[0m request_dict \u001b[38;5;241m=\u001b[39m _common\u001b[38;5;241m.\u001b[39mencode_unserializable_types(request_dict)\n\u001b[1;32m-> 4008\u001b[0m \u001b[38;5;28;01mfor\u001b[39;00m response_dict \u001b[38;5;129;01min\u001b[39;00m \u001b[38;5;28mself\u001b[39m\u001b[38;5;241m.\u001b[39m_api_client\u001b[38;5;241m.\u001b[39mrequest_streamed(\n\u001b[0;32m   4009\u001b[0m     \u001b[38;5;124m'\u001b[39m\u001b[38;5;124mpost\u001b[39m\u001b[38;5;124m'\u001b[39m, path, request_dict, http_options\n\u001b[0;32m   4010\u001b[0m ):\n\u001b[0;32m   4012\u001b[0m   \u001b[38;5;28;01mif\u001b[39;00m \u001b[38;5;28mself\u001b[39m\u001b[38;5;241m.\u001b[39m_api_client\u001b[38;5;241m.\u001b[39mvertexai:\n\u001b[0;32m   4013\u001b[0m     response_dict \u001b[38;5;241m=\u001b[39m _GenerateContentResponse_from_vertex(\n\u001b[0;32m   4014\u001b[0m         \u001b[38;5;28mself\u001b[39m\u001b[38;5;241m.\u001b[39m_api_client, response_dict\n\u001b[0;32m   4015\u001b[0m     )\n",
      "File \u001b[1;32mc:\\Users\\haabs\\anaconda3\\envs\\bth\\lib\\site-packages\\google\\genai\\_api_client.py:693\u001b[0m, in \u001b[0;36mBaseApiClient.request_streamed\u001b[1;34m(self, http_method, path, request_dict, http_options)\u001b[0m\n\u001b[0;32m    682\u001b[0m \u001b[38;5;28;01mdef\u001b[39;00m\u001b[38;5;250m \u001b[39m\u001b[38;5;21mrequest_streamed\u001b[39m(\n\u001b[0;32m    683\u001b[0m     \u001b[38;5;28mself\u001b[39m,\n\u001b[0;32m    684\u001b[0m     http_method: \u001b[38;5;28mstr\u001b[39m,\n\u001b[1;32m   (...)\u001b[0m\n\u001b[0;32m    687\u001b[0m     http_options: Optional[HttpOptionsOrDict] \u001b[38;5;241m=\u001b[39m \u001b[38;5;28;01mNone\u001b[39;00m,\n\u001b[0;32m    688\u001b[0m ):\n\u001b[0;32m    689\u001b[0m   http_request \u001b[38;5;241m=\u001b[39m \u001b[38;5;28mself\u001b[39m\u001b[38;5;241m.\u001b[39m_build_request(\n\u001b[0;32m    690\u001b[0m       http_method, path, request_dict, http_options\n\u001b[0;32m    691\u001b[0m   )\n\u001b[1;32m--> 693\u001b[0m   session_response \u001b[38;5;241m=\u001b[39m \u001b[38;5;28;43mself\u001b[39;49m\u001b[38;5;241;43m.\u001b[39;49m\u001b[43m_request\u001b[49m\u001b[43m(\u001b[49m\u001b[43mhttp_request\u001b[49m\u001b[43m,\u001b[49m\u001b[43m \u001b[49m\u001b[43mstream\u001b[49m\u001b[38;5;241;43m=\u001b[39;49m\u001b[38;5;28;43;01mTrue\u001b[39;49;00m\u001b[43m)\u001b[49m\n\u001b[0;32m    694\u001b[0m   \u001b[38;5;28;01mfor\u001b[39;00m chunk \u001b[38;5;129;01min\u001b[39;00m session_response\u001b[38;5;241m.\u001b[39msegments():\n\u001b[0;32m    695\u001b[0m     \u001b[38;5;28;01myield\u001b[39;00m chunk\n",
      "File \u001b[1;32mc:\\Users\\haabs\\anaconda3\\envs\\bth\\lib\\site-packages\\google\\genai\\_api_client.py:591\u001b[0m, in \u001b[0;36mBaseApiClient._request\u001b[1;34m(self, http_request, stream)\u001b[0m\n\u001b[0;32m    583\u001b[0m   httpx_request \u001b[38;5;241m=\u001b[39m \u001b[38;5;28mself\u001b[39m\u001b[38;5;241m.\u001b[39m_httpx_client\u001b[38;5;241m.\u001b[39mbuild_request(\n\u001b[0;32m    584\u001b[0m       method\u001b[38;5;241m=\u001b[39mhttp_request\u001b[38;5;241m.\u001b[39mmethod,\n\u001b[0;32m    585\u001b[0m       url\u001b[38;5;241m=\u001b[39mhttp_request\u001b[38;5;241m.\u001b[39murl,\n\u001b[1;32m   (...)\u001b[0m\n\u001b[0;32m    588\u001b[0m       timeout\u001b[38;5;241m=\u001b[39mhttp_request\u001b[38;5;241m.\u001b[39mtimeout,\n\u001b[0;32m    589\u001b[0m   )\n\u001b[0;32m    590\u001b[0m   response \u001b[38;5;241m=\u001b[39m \u001b[38;5;28mself\u001b[39m\u001b[38;5;241m.\u001b[39m_httpx_client\u001b[38;5;241m.\u001b[39msend(httpx_request, stream\u001b[38;5;241m=\u001b[39mstream)\n\u001b[1;32m--> 591\u001b[0m   \u001b[43merrors\u001b[49m\u001b[38;5;241;43m.\u001b[39;49m\u001b[43mAPIError\u001b[49m\u001b[38;5;241;43m.\u001b[39;49m\u001b[43mraise_for_response\u001b[49m\u001b[43m(\u001b[49m\u001b[43mresponse\u001b[49m\u001b[43m)\u001b[49m\n\u001b[0;32m    592\u001b[0m   \u001b[38;5;28;01mreturn\u001b[39;00m HttpResponse(\n\u001b[0;32m    593\u001b[0m       response\u001b[38;5;241m.\u001b[39mheaders, response \u001b[38;5;28;01mif\u001b[39;00m stream \u001b[38;5;28;01melse\u001b[39;00m [response\u001b[38;5;241m.\u001b[39mtext]\n\u001b[0;32m    594\u001b[0m   )\n\u001b[0;32m    595\u001b[0m \u001b[38;5;28;01melse\u001b[39;00m:\n",
      "File \u001b[1;32mc:\\Users\\haabs\\anaconda3\\envs\\bth\\lib\\site-packages\\google\\genai\\errors.py:101\u001b[0m, in \u001b[0;36mAPIError.raise_for_response\u001b[1;34m(cls, response)\u001b[0m\n\u001b[0;32m     99\u001b[0m status_code \u001b[38;5;241m=\u001b[39m response\u001b[38;5;241m.\u001b[39mstatus_code\n\u001b[0;32m    100\u001b[0m \u001b[38;5;28;01mif\u001b[39;00m \u001b[38;5;241m400\u001b[39m \u001b[38;5;241m<\u001b[39m\u001b[38;5;241m=\u001b[39m status_code \u001b[38;5;241m<\u001b[39m \u001b[38;5;241m500\u001b[39m:\n\u001b[1;32m--> 101\u001b[0m   \u001b[38;5;28;01mraise\u001b[39;00m ClientError(status_code, response_json, response)\n\u001b[0;32m    102\u001b[0m \u001b[38;5;28;01melif\u001b[39;00m \u001b[38;5;241m500\u001b[39m \u001b[38;5;241m<\u001b[39m\u001b[38;5;241m=\u001b[39m status_code \u001b[38;5;241m<\u001b[39m \u001b[38;5;241m600\u001b[39m:\n\u001b[0;32m    103\u001b[0m   \u001b[38;5;28;01mraise\u001b[39;00m ServerError(status_code, response_json, response)\n",
      "\u001b[1;31mClientError\u001b[0m: 429 RESOURCE_EXHAUSTED. {'error': {'code': 429, 'message': 'You exceeded your current quota, please check your plan and billing details. For more information on this error, head to: https://ai.google.dev/gemini-api/docs/rate-limits.', 'status': 'RESOURCE_EXHAUSTED', 'details': [{'@type': 'type.googleapis.com/google.rpc.QuotaFailure', 'violations': [{'quotaMetric': 'generativelanguage.googleapis.com/generate_content_free_tier_requests', 'quotaId': 'GenerateRequestsPerDayPerProjectPerModel-FreeTier', 'quotaDimensions': {'location': 'global', 'model': 'gemini-2.0-flash-lite'}, 'quotaValue': '1500'}]}, {'@type': 'type.googleapis.com/google.rpc.Help', 'links': [{'description': 'Learn more about Gemini API quotas', 'url': 'https://ai.google.dev/gemini-api/docs/rate-limits'}]}, {'@type': 'type.googleapis.com/google.rpc.RetryInfo', 'retryDelay': '49s'}]}}"
     ]
    }
   ],
   "source": [
    "key_count = len(API_KEYS)\n",
    "chunk_size = 5 # Number of rows sent to the LLM at once (best results with 1, but not suitable for free access/trial limits)\n",
    "requests_per_key = 15 # Number of requests per key in a minute \n",
    "\n",
    "current_key_index = 0\n",
    "key_request_counter = 0\n",
    "cycle_start_time = time.time()\n",
    "\n",
    "# Different chunk lines depending on the iteration index\n",
    "group_chunk_lines = {\n",
    "    \"1\": lambda row: f\"Titel: {row['dataset_title_DE']}\\nBeschreibung: {row['dataset_description_DE']}\",\n",
    "    \"2\": lambda row: f\"Beschreibung: {row['dataset_description_DE']}\",\n",
    "    \"3\": lambda row: f\"Titel: {row['dataset_title_EN']}\\nBeschreibung: {row['dataset_description_EN']}\",\n",
    "    \"4\": lambda row: f\"Beschreibung: {row['dataset_description_EN']}\",\n",
    "    \"5\": lambda row: f\"Titel: {row['dataset_title_FR']}\\nBeschreibung: {row['dataset_description_FR']}\",\n",
    "    \"6\": lambda row: f\"Beschreibung: {row['dataset_description_FR']}\",\n",
    "    \"7\": lambda row: f\"Titel: {row['dataset_title_IT']}\\nBeschreibung: {row['dataset_description_IT']}\",\n",
    "    \"8\": lambda row: f\"Beschreibung: {row['dataset_description_IT']}\",\n",
    "    \"9\": lambda row: f\"Titel: {row['dataset_title']}\\nBeschreibung: {row['dataset_description']}\",\n",
    "    \"10\": lambda row: f\"Beschreibung: {row['dataset_description']}\",\n",
    "    \"11\": lambda row: f\"Titel: {row['dataset_title_DE']}\",\n",
    "    \"12\": lambda row: f\"Titel: {row['dataset_title_EN']}\",\n",
    "    \"13\": lambda row: f\"Titel: {row['dataset_title_FR']}\",\n",
    "    \"14\": lambda row: f\"Titel: {row['dataset_title_IT']}\",\n",
    "    \"15\": lambda row: f\"Titel: {row['dataset_title']}\",\n",
    "    \"16\": lambda row: f\"Titel: {row['dataset_title_UNKNOWN']}\\nBeschreibung: {row['dataset_description_UNKNOWN']}\",\n",
    "    \"17\": lambda row: f\"Beschreibung: {row['dataset_description_UNKNOWN']}\",\n",
    "    \"18\": lambda row: f\"Titel: {row['dataset_title_UNKNOWN']}\",\n",
    "}\n",
    "\n",
    "relevant_columns = [\n",
    "    'dataset_title_DE', 'dataset_description_DE',\n",
    "    'dataset_title_EN', 'dataset_description_EN',\n",
    "    'dataset_title_FR', 'dataset_description_FR',\n",
    "    'dataset_title_IT', 'dataset_description_IT',\n",
    "    'dataset_title', 'dataset_description',\n",
    "    'dataset_title_UNKNOWN', 'dataset_description_UNKNOWN'\n",
    "]\n",
    "\n",
    "# Group by the 'index' column (or any other grouping criteria)\n",
    "for group_name, group_df in df.groupby('iteration_index'):\n",
    "    print(f\"Processing group: {group_name} with {len(group_df)} entries\")\n",
    "    \n",
    "    # Iterate in chunks within this group\n",
    "    for i in tqdm(range(0, len(group_df), chunk_size)):\n",
    "        if key_request_counter >= requests_per_key:\n",
    "            current_key_index += 1\n",
    "            key_request_counter = 0\n",
    "\n",
    "            if current_key_index >= key_count:\n",
    "                elapsed = time.time() - cycle_start_time\n",
    "                if elapsed < 60:\n",
    "                    wait_time = int(60 - elapsed)\n",
    "                    print(f\"Maximum requests per minute reached. Waiting {wait_time} seconds...\")\n",
    "                    time.sleep(wait_time + 1)\n",
    "                current_key_index = 0\n",
    "                cycle_start_time = time.time()\n",
    "\n",
    "        CURRENT_API_KEY = API_KEYS[current_key_index]\n",
    "        client = genai.Client(api_key=CURRENT_API_KEY)\n",
    "\n",
    "        chunk_df = group_df.iloc[i:i + chunk_size][relevant_columns]\n",
    "\n",
    "        formatter = group_chunk_lines[str(group_name)]\n",
    "        chunk_lines = chunk_df.apply(formatter, axis=1).tolist()\n",
    "\n",
    "        prompt = \"Handelt es sich bei folgendem Inhalt um Verkehrs- oder Mobilitätsdaten? Antworte nur mit T (True) oder F (False) Zeilenweise.\\n\\n\" + \"\\n\\n\".join(chunk_lines)\n",
    "\n",
    "        # Submit the prompt to the Gemini model\n",
    "        response = client.models.generate_content_stream(\n",
    "            model=\"gemini-2.0-flash-lite-001\",\n",
    "            contents=[prompt],\n",
    "            config=types.GenerateContentConfig(\n",
    "                max_output_tokens=chunk_size * 2,\n",
    "                temperature=0\n",
    "            )\n",
    "        )\n",
    "\n",
    "        result_text = \"\"\n",
    "        for chunk in response:\n",
    "            result_text += chunk.text\n",
    "\n",
    "        predictions = result_text.strip().splitlines()\n",
    "\n",
    "        if len(predictions) != len(chunk_df):\n",
    "            predictions = [] \n",
    "            df.loc[chunk_df.index, 'mobilitydata_labelled'] = 'ERROR'\n",
    "            continue\n",
    "\n",
    "        target_indices = chunk_df.index\n",
    "        df.loc[target_indices, 'mobilitydata_labelled'] = predictions\n",
    "\n",
    "        key_request_counter += 1\n",
    "        time.sleep(0.8)\n",
    "        \n",
    "\n",
    "# After the main loop: retry failed attempts with chunk_size = 1\n",
    "error_df = df[df['mobilitydata_labelled'] == 'ERROR']\n",
    "\n",
    "if not error_df.empty:\n",
    "    print(f\"Retrying {len(error_df)} ERROR rows with chunk_size = 1\")\n",
    "\n",
    "    for group_name, group_df in error_df.groupby('iteration_index'):\n",
    "        print(f\"Retrying group {group_name} with {len(group_df)} rows\")\n",
    "        for i in tqdm(range(0, len(group_df), 1)):  # chunk_size = 1\n",
    "            if key_request_counter >= requests_per_key:\n",
    "                current_key_index += 1\n",
    "                key_request_counter = 0\n",
    "\n",
    "                if current_key_index >= key_count:\n",
    "                    elapsed = time.time() - cycle_start_time\n",
    "                    if elapsed < 60:\n",
    "                        wait_time = int(60 - elapsed)\n",
    "                        print(f\"Maximum requests per minute reached. Waiting {wait_time} seconds...\")\n",
    "                        time.sleep(wait_time + 1)\n",
    "                    current_key_index = 0\n",
    "                    cycle_start_time = time.time()\n",
    "\n",
    "            CURRENT_API_KEY = API_KEYS[current_key_index]\n",
    "            client = genai.Client(api_key=CURRENT_API_KEY)\n",
    "\n",
    "            chunk_df = group_df.iloc[i:i + 1][relevant_columns]\n",
    "            formatter = group_chunk_lines[str(group_name)]\n",
    "            chunk_lines = chunk_df.apply(formatter, axis=1).tolist()\n",
    "\n",
    "            prompt = \"Handelt es sich bei folgendem Inhalt um Verkehrs- oder Mobilitätsdaten? Antworte nur mit T (True) oder F (False) Zeilenweise.\\n\\n\" + \"\\n\\n\".join(chunk_lines)\n",
    "\n",
    "            response = client.models.generate_content_stream(\n",
    "                model=\"gemini-2.0-flash-lite-001\",\n",
    "                contents=[prompt],\n",
    "                config=types.GenerateContentConfig(\n",
    "                    max_output_tokens=5,\n",
    "                    temperature=0\n",
    "                )\n",
    "            )\n",
    "\n",
    "            result_text = \"\"\n",
    "            for chunk in response:\n",
    "                result_text += chunk.text\n",
    "\n",
    "            predictions = result_text.strip().splitlines()\n",
    "\n",
    "            if len(predictions) != 1:\n",
    "                df.loc[chunk_df.index, 'mobilitydata_labelled'] = 'ERROR'\n",
    "                continue\n",
    "\n",
    "            df.loc[chunk_df.index, 'mobilitydata_labelled'] = predictions\n",
    "            key_request_counter += 1\n",
    "            time.sleep(0.8)"
   ]
  },
  {
   "cell_type": "code",
   "execution_count": 43,
   "id": "e0b7fba5",
   "metadata": {},
   "outputs": [
    {
     "name": "stdout",
     "output_type": "stream",
     "text": [
      "The file has been successfully saved as data/merged_dataset_metadata_labelled.csv.\n"
     ]
    }
   ],
   "source": [
    "# Write dataframe in new csv-File\n",
    "df.to_csv(outputdata_file, index=False)\n",
    "\n",
    "print(f'The file has been successfully saved as {outputdata_file}.')"
   ]
  },
  {
   "cell_type": "code",
   "execution_count": null,
   "id": "3f3f7dbe",
   "metadata": {},
   "outputs": [],
   "source": []
  }
 ],
 "metadata": {
  "kernelspec": {
   "display_name": "bth",
   "language": "python",
   "name": "python3"
  },
  "language_info": {
   "codemirror_mode": {
    "name": "ipython",
    "version": 3
   },
   "file_extension": ".py",
   "mimetype": "text/x-python",
   "name": "python",
   "nbconvert_exporter": "python",
   "pygments_lexer": "ipython3",
   "version": "3.10.10"
  }
 },
 "nbformat": 4,
 "nbformat_minor": 5
}
