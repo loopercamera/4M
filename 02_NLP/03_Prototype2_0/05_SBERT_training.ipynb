{
 "cells": [
  {
   "cell_type": "code",
   "execution_count": 2,
   "id": "1b549e6b",
   "metadata": {},
   "outputs": [],
   "source": [
    "from sentence_transformers import SentenceTransformer\n",
    "from sklearn.linear_model import LogisticRegression\n",
    "from sklearn.model_selection import train_test_split\n",
    "from sklearn.metrics import classification_report, confusion_matrix, ConfusionMatrixDisplay\n",
    "import matplotlib.pyplot as plt\n",
    "import pandas as pd\n",
    "\n",
    "inputdata_file ='data/merged_dataset_metadata_labelled.csv'"
   ]
  },
  {
   "cell_type": "code",
   "execution_count": 3,
   "id": "ab297e72",
   "metadata": {},
   "outputs": [
    {
     "name": "stdout",
     "output_type": "stream",
     "text": [
      "1000 gültige Textbeispiele extrahiert.\n"
     ]
    }
   ],
   "source": [
    "# CSV laden\n",
    "df = pd.read_csv(inputdata_file, low_memory=False)\n",
    "\n",
    "# Label-Konvertierung\n",
    "df['label'] = df['mobilitydata_labelled'].map({'T': 1, 'F': 0})\n",
    "\n",
    "# Definition: welche Spalten pro iteration_index verwendet werden sollen\n",
    "index_column_map = {\n",
    "    1: ['dataset_title_DE', 'dataset_description_DE'],\n",
    "    2: ['dataset_description_DE'],\n",
    "    3: ['dataset_title_EN', 'dataset_description_EN'],\n",
    "    4: ['dataset_description_EN'],\n",
    "    5: ['dataset_title_FR', 'dataset_description_FR'],\n",
    "    6: ['dataset_description_FR'],\n",
    "    7: ['dataset_title_IT', 'dataset_description_IT'],\n",
    "    8: ['dataset_description_IT'],\n",
    "    9: ['dataset_title', 'dataset_description'],\n",
    "    10: ['dataset_description'],\n",
    "    11: ['dataset_title_DE'],\n",
    "    12: ['dataset_title_EN'],\n",
    "    13: ['dataset_title_FR'],\n",
    "    14: ['dataset_title_IT'],\n",
    "    15: ['dataset_title'],\n",
    "    16: ['dataset_title_UNKNOWN', 'dataset_description_UNKNOWN'],\n",
    "    17: ['dataset_description_UNKNOWN'],\n",
    "    18: ['dataset_title_UNKNOWN']\n",
    "}\n",
    "\n",
    "# Phrasenliste erstellen\n",
    "texts = []\n",
    "labels = []\n",
    "\n",
    "for idx, row in df.iterrows():\n",
    "    index = row['iteration_index']\n",
    "    if pd.isna(index):\n",
    "        continue  # Falls kein Index vorhanden ist\n",
    "\n",
    "    index = int(index)\n",
    "    if index not in index_column_map:\n",
    "        continue\n",
    "\n",
    "    selected_columns = index_column_map[index]\n",
    "    parts = [str(row[col]) for col in selected_columns if pd.notna(row[col]) and str(row[col]).strip() != '']\n",
    "\n",
    "    if not parts:\n",
    "        continue  # Wenn alle Felder leer\n",
    "\n",
    "    phrase = \" \".join(parts)\n",
    "    texts.append(phrase)\n",
    "    labels.append(row['label'])\n",
    "\n",
    "print(f\"{len(texts)} gültige Textbeispiele extrahiert.\")"
   ]
  },
  {
   "cell_type": "code",
   "execution_count": 4,
   "id": "37cabfbb",
   "metadata": {},
   "outputs": [
    {
     "data": {
      "application/vnd.jupyter.widget-view+json": {
       "model_id": "9d8120a5f04e4196a3be4a90cf948022",
       "version_major": 2,
       "version_minor": 0
      },
      "text/plain": [
       "modules.json:   0%|          | 0.00/349 [00:00<?, ?B/s]"
      ]
     },
     "metadata": {},
     "output_type": "display_data"
    },
    {
     "name": "stderr",
     "output_type": "stream",
     "text": [
      "c:\\Users\\haabs\\anaconda3\\envs\\bth\\lib\\site-packages\\huggingface_hub\\file_download.py:144: UserWarning: `huggingface_hub` cache-system uses symlinks by default to efficiently store duplicated files but your machine does not support them in C:\\Users\\haabs\\.cache\\huggingface\\hub\\models--sentence-transformers--all-MiniLM-L6-v2. Caching files will still work but in a degraded version that might require more space on your disk. This warning can be disabled by setting the `HF_HUB_DISABLE_SYMLINKS_WARNING` environment variable. For more details, see https://huggingface.co/docs/huggingface_hub/how-to-cache#limitations.\n",
      "To support symlinks on Windows, you either need to activate Developer Mode or to run Python as an administrator. In order to activate developer mode, see this article: https://docs.microsoft.com/en-us/windows/apps/get-started/enable-your-device-for-development\n",
      "  warnings.warn(message)\n"
     ]
    },
    {
     "data": {
      "application/vnd.jupyter.widget-view+json": {
       "model_id": "1903801a24974562888d299170f111f3",
       "version_major": 2,
       "version_minor": 0
      },
      "text/plain": [
       "config_sentence_transformers.json:   0%|          | 0.00/116 [00:00<?, ?B/s]"
      ]
     },
     "metadata": {},
     "output_type": "display_data"
    },
    {
     "data": {
      "application/vnd.jupyter.widget-view+json": {
       "model_id": "4bd708a6f2c74e109f04a97176ebbd93",
       "version_major": 2,
       "version_minor": 0
      },
      "text/plain": [
       "README.md:   0%|          | 0.00/10.5k [00:00<?, ?B/s]"
      ]
     },
     "metadata": {},
     "output_type": "display_data"
    },
    {
     "data": {
      "application/vnd.jupyter.widget-view+json": {
       "model_id": "1a523c7af9f14d6685c34c543bbd2355",
       "version_major": 2,
       "version_minor": 0
      },
      "text/plain": [
       "sentence_bert_config.json:   0%|          | 0.00/53.0 [00:00<?, ?B/s]"
      ]
     },
     "metadata": {},
     "output_type": "display_data"
    },
    {
     "data": {
      "application/vnd.jupyter.widget-view+json": {
       "model_id": "2248a6e436dc4ed481d760231286abf2",
       "version_major": 2,
       "version_minor": 0
      },
      "text/plain": [
       "config.json:   0%|          | 0.00/612 [00:00<?, ?B/s]"
      ]
     },
     "metadata": {},
     "output_type": "display_data"
    },
    {
     "name": "stderr",
     "output_type": "stream",
     "text": [
      "Xet Storage is enabled for this repo, but the 'hf_xet' package is not installed. Falling back to regular HTTP download. For better performance, install the package with: `pip install huggingface_hub[hf_xet]` or `pip install hf_xet`\n"
     ]
    },
    {
     "data": {
      "application/vnd.jupyter.widget-view+json": {
       "model_id": "ff75f5a97be34be2bb4856509eea656d",
       "version_major": 2,
       "version_minor": 0
      },
      "text/plain": [
       "model.safetensors:   0%|          | 0.00/90.9M [00:00<?, ?B/s]"
      ]
     },
     "metadata": {},
     "output_type": "display_data"
    },
    {
     "data": {
      "application/vnd.jupyter.widget-view+json": {
       "model_id": "00c3ecf89b224f83b39dcbd83413c3a4",
       "version_major": 2,
       "version_minor": 0
      },
      "text/plain": [
       "tokenizer_config.json:   0%|          | 0.00/350 [00:00<?, ?B/s]"
      ]
     },
     "metadata": {},
     "output_type": "display_data"
    },
    {
     "data": {
      "application/vnd.jupyter.widget-view+json": {
       "model_id": "c97b9dc2eb464c27b9a1bf021bd545b7",
       "version_major": 2,
       "version_minor": 0
      },
      "text/plain": [
       "vocab.txt:   0%|          | 0.00/232k [00:00<?, ?B/s]"
      ]
     },
     "metadata": {},
     "output_type": "display_data"
    },
    {
     "data": {
      "application/vnd.jupyter.widget-view+json": {
       "model_id": "8a03c9c567014827b560ae28b70640b6",
       "version_major": 2,
       "version_minor": 0
      },
      "text/plain": [
       "tokenizer.json:   0%|          | 0.00/466k [00:00<?, ?B/s]"
      ]
     },
     "metadata": {},
     "output_type": "display_data"
    },
    {
     "data": {
      "application/vnd.jupyter.widget-view+json": {
       "model_id": "c69f7b65f33541999b8ac6cb5d01b549",
       "version_major": 2,
       "version_minor": 0
      },
      "text/plain": [
       "special_tokens_map.json:   0%|          | 0.00/112 [00:00<?, ?B/s]"
      ]
     },
     "metadata": {},
     "output_type": "display_data"
    },
    {
     "data": {
      "application/vnd.jupyter.widget-view+json": {
       "model_id": "a35b8ec353704cafa679cc03919f64fb",
       "version_major": 2,
       "version_minor": 0
      },
      "text/plain": [
       "config.json:   0%|          | 0.00/190 [00:00<?, ?B/s]"
      ]
     },
     "metadata": {},
     "output_type": "display_data"
    },
    {
     "name": "stdout",
     "output_type": "stream",
     "text": [
      "              precision    recall  f1-score   support\n",
      "\n",
      "           0       0.89      0.75      0.82       121\n",
      "           1       0.38      0.62      0.47        29\n",
      "\n",
      "    accuracy                           0.73       150\n",
      "   macro avg       0.63      0.69      0.64       150\n",
      "weighted avg       0.79      0.73      0.75       150\n",
      "\n"
     ]
    }
   ],
   "source": [
    "# Schritt 1: Embeddings generieren\n",
    "model = SentenceTransformer('all-MiniLM-L6-v2')\n",
    "embeddings = model.encode(texts, convert_to_tensor=False)\n",
    "\n",
    "# Schritt 2: Erst in Train und Temporär (Val + Test) splitten\n",
    "X_train, X_temp, y_train, y_temp = train_test_split(embeddings, labels, test_size=0.3, random_state=42)\n",
    "\n",
    "# Schritt 3: Jetzt X_temp und y_temp in Val und Test aufteilen\n",
    "X_val, X_test, y_val, y_test = train_test_split(X_temp, y_temp, test_size=0.5, random_state=42)\n",
    "\n",
    "# Schritt 4: Klassifikator trainieren\n",
    "clf = LogisticRegression(class_weight='balanced')\n",
    "clf.fit(X_train, y_train)\n",
    "\n",
    "# Schritt 5: Vorhersage auf Test-Set und Auswertung\n",
    "y_pred = clf.predict(X_test)\n",
    "print(classification_report(y_test, y_pred))"
   ]
  },
  {
   "cell_type": "code",
   "execution_count": 5,
   "id": "3ac20b8b",
   "metadata": {},
   "outputs": [
    {
     "data": {
      "image/png": "[encoded data removed]",
      "text/plain": [
       "<Figure size 640x480 with 2 Axes>"
      ]
     },
     "metadata": {},
     "output_type": "display_data"
    }
   ],
   "source": [
    "cm = confusion_matrix(y_test, y_pred)\n",
    "disp = ConfusionMatrixDisplay(confusion_matrix=cm, display_labels=[\"Kein Bezug\", \"Mobilitätsbezug\"])\n",
    "disp.plot(cmap='Greys')\n",
    "plt.title(\"Confusion Matrix\")\n",
    "plt.show()"
   ]
  },
  {
   "cell_type": "code",
   "execution_count": null,
   "id": "c6523c61",
   "metadata": {},
   "outputs": [],
   "source": []
  }
 ],
 "metadata": {
  "kernelspec": {
   "display_name": "bth",
   "language": "python",
   "name": "python3"
  },
  "language_info": {
   "codemirror_mode": {
    "name": "ipython",
    "version": 3
   },
   "file_extension": ".py",
   "mimetype": "text/x-python",
   "name": "python",
   "nbconvert_exporter": "python",
   "pygments_lexer": "ipython3",
   "version": "3.10.10"
  }
 },
 "nbformat": 4,
 "nbformat_minor": 5
}
