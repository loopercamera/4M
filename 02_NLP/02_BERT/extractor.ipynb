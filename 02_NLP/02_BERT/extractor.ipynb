{
 "cells": [
  {
   "cell_type": "code",
   "execution_count": null,
   "metadata": {},
   "outputs": [],
   "source": [
    "import random\n",
    "\n",
    "def extract_random_lines(input_file: str, output_file: str, num_lines: int = 100):\n",
    "    # Lies alle Zeilen aus der Eingabedatei\n",
    "    with open(input_file, 'r', encoding='utf-8') as file:\n",
    "        lines = file.readlines()\n",
    "    \n",
    "    # Prüfe, ob die Datei genügend Zeilen hat\n",
    "    if len(lines) < num_lines:\n",
    "        raise ValueError(f\"Die Datei enthält nur {len(lines)} Zeilen. Bitte ein kleineres num_lines wählen.\")\n",
    "    \n",
    "    # Wähle zufällig 100 Zeilen ohne Wiederholung\n",
    "    random_lines = random.sample(lines, num_lines)\n",
    "    \n",
    "    # Schreibe die ausgewählten Zeilen in eine neue Datei\n",
    "    with open(output_file, 'w', encoding='utf-8') as file:\n",
    "        file.writelines(random_lines)\n",
    "\n",
    "# Beispielaufruf\n",
    "input_file = '../03_Gensim_Fasttext/data/dataset_descriptions_preprocessed.txt'  # Pfad zur Eingabedatei\n",
    "output_file = 'zufaellige_zeilen.txt'  # Pfad zur Ausgabedatei\n",
    "\n",
    "extract_random_lines(input_file, output_file)\n"
   ]
  },
  {
   "cell_type": "code",
   "execution_count": null,
   "metadata": {},
   "outputs": [],
   "source": []
  }
 ],
 "metadata": {
  "kernelspec": {
   "display_name": "Python 3",
   "language": "python",
   "name": "python3"
  },
  "language_info": {
   "codemirror_mode": {
    "name": "ipython",
    "version": 3
   },
   "file_extension": ".py",
   "mimetype": "text/x-python",
   "name": "python",
   "nbconvert_exporter": "python",
   "pygments_lexer": "ipython3",
   "version": "3.10.10"
  }
 },
 "nbformat": 4,
 "nbformat_minor": 2
}
