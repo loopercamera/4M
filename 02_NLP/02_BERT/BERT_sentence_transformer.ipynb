{
 "cells": [
  {
   "cell_type": "code",
   "execution_count": 1,
   "metadata": {},
   "outputs": [
    {
     "name": "stderr",
     "output_type": "stream",
     "text": [
      "c:\\Users\\haabs\\AppData\\Local\\Programs\\Python\\Python310\\lib\\site-packages\\tqdm\\auto.py:21: TqdmWarning: IProgress not found. Please update jupyter and ipywidgets. See https://ipywidgets.readthedocs.io/en/stable/user_install.html\n",
      "  from .autonotebook import tqdm as notebook_tqdm\n"
     ]
    }
   ],
   "source": [
    "from sentence_transformers import SentenceTransformer\n",
    "from sklearn.metrics.pairwise import cosine_similarity\n",
    "import numpy as np\n",
    "\n",
    "# ✅ 1. Lade das Modell (automatisch heruntergeladen, wenn es noch nicht lokal ist)\n",
    "model = SentenceTransformer('sentence-transformers/paraphrase-multilingual-MiniLM-L12-v2')"
   ]
  },
  {
   "cell_type": "code",
   "execution_count": 3,
   "metadata": {},
   "outputs": [],
   "source": [
    "# ✅ 2. Mobilitätswörterpool definieren (aus Datei einlesen)\n",
    "def load_mobility_keywords(file_path):\n",
    "    with open(file_path, 'r', encoding='utf-8') as file:\n",
    "        keywords = [line.strip() for line in file if line.strip()]  # Leere Zeilen ignorieren\n",
    "    return keywords\n",
    "\n",
    "# Lade die Mobilitätsbegriffe aus der Datei\n",
    "mobility_keywords_file = 'data/mobility_keywords_pool.txt'\n",
    "mobility_keywords = load_mobility_keywords(mobility_keywords_file)"
   ]
  },
  {
   "cell_type": "code",
   "execution_count": 4,
   "metadata": {},
   "outputs": [],
   "source": [
    "# ✅ 3. Keywords in Vektoren umwandeln\n",
    "keyword_embeddings = model.encode(mobility_keywords)"
   ]
  },
  {
   "cell_type": "code",
   "execution_count": 5,
   "metadata": {},
   "outputs": [],
   "source": [
    "# ✅ 4. Funktion zur Ähnlichkeitsprüfung\n",
    "def check_similarity(text, keyword_embeddings, model, threshold=0.5):\n",
    "    text_embedding = model.encode([text])\n",
    "    similarities = cosine_similarity(text_embedding, keyword_embeddings)\n",
    "    max_similarity = np.max(similarities)\n",
    "    return max_similarity >= threshold, max_similarity"
   ]
  },
  {
   "cell_type": "code",
   "execution_count": null,
   "metadata": {},
   "outputs": [
    {
     "name": "stdout",
     "output_type": "stream",
     "text": [
      "✅ Analyse abgeschlossen. Datei gespeichert unter: analysed_datasets.csv\n"
     ]
    }
   ],
   "source": [
    "import pandas as pd\n",
    "import os\n",
    "\n",
    "# ✅ Funktion zur Analyse des Datasets\n",
    "def analyze_dataset(file_path, keyword_embeddings, model, threshold=0.5):\n",
    "    # Prüfen, ob die Datei existiert\n",
    "    if not os.path.exists(file_path):\n",
    "        raise FileNotFoundError(f\"Datei nicht gefunden: {file_path}\")\n",
    "    \n",
    "    # Lade die Datei\n",
    "    df = pd.read_csv(file_path)\n",
    "    \n",
    "    # Überprüfen, ob Daten korrekt geladen wurden\n",
    "    if df.empty:\n",
    "        raise ValueError(\"Die Datei ist leer oder wurde nicht korrekt geladen.\")\n",
    "    \n",
    "    # Neue Spalten für Analyse-Ergebnisse\n",
    "    labels = []\n",
    "    scores = []\n",
    "\n",
    "    for description in df.iloc[:, 0]:  # Gehe jede Zeile der ersten Spalte durch\n",
    "        is_mobility, similarity_score = check_similarity(str(description), keyword_embeddings, model, threshold)\n",
    "        label = 'Mobilitätsdaten' if is_mobility else 'Nicht Mobilitätsdaten'\n",
    "        labels.append(label)\n",
    "        scores.append(similarity_score)\n",
    "\n",
    "    # Speichere die Ergebnisse in neuen Spalten\n",
    "    df['Analyse Ergebnis'] = labels\n",
    "    df['Ähnlichkeit Score'] = scores\n",
    "\n",
    "    # Speichere die aktualisierte Datei im selben Ordner wie die Eingabedatei\n",
    "    output_file = os.path.join(os.path.dirname(file_path), 'data/analysed_datasets.csv')\n",
    "    df.to_csv(output_file, index=False)\n",
    "    \n",
    "    print(f\"✅ Analyse abgeschlossen. Datei gespeichert unter: {output_file}\")\n",
    "    return output_file\n",
    "\n",
    "# 📌 Pfade anpassen\n",
    "input_file_path = 'data/zufaellige_zeilen2.txt'  # <-- Pfad zu deiner Datei hier einfügen\n",
    "\n",
    "# 📌 Datei analysieren (modifiziere diese Zeile mit deinem Modell & Embeddings)\n",
    "output_file_path = analyze_dataset(input_file_path, keyword_embeddings, model)\n"
   ]
  },
  {
   "cell_type": "markdown",
   "metadata": {},
   "source": [
    "# wie kann man diese ergebnisse darstellen?"
   ]
  }
 ],
 "metadata": {
  "kernelspec": {
   "display_name": "Python 3",
   "language": "python",
   "name": "python3"
  },
  "language_info": {
   "codemirror_mode": {
    "name": "ipython",
    "version": 3
   },
   "file_extension": ".py",
   "mimetype": "text/x-python",
   "name": "python",
   "nbconvert_exporter": "python",
   "pygments_lexer": "ipython3",
   "version": "3.10.10"
  }
 },
 "nbformat": 4,
 "nbformat_minor": 2
}
