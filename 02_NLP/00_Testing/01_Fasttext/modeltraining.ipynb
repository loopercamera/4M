{
 "cells": [
  {
   "cell_type": "markdown",
   "metadata": {},
   "source": [
    "## Description\n",
    "In this notebook, we fine-tune an existing model from fasttext. The training data comes from our datasets from the ETL step before but only includes the German descriptions for testing purposes.\n",
    "\n",
    "The code was created with the assistance of ChatGPT-4."
   ]
  },
  {
   "cell_type": "code",
   "execution_count": null,
   "metadata": {},
   "outputs": [],
   "source": [
    "import pandas as pd\n",
    "\n",
    "# CSV-Datei laden\n",
    "df= pd.read_csv(\"data/trainingsdata.csv\", delimiter=';')"
   ]
  },
  {
   "cell_type": "code",
   "execution_count": 2,
   "metadata": {},
   "outputs": [],
   "source": [
    "import re\n",
    "\n",
    "# function to remove elements\n",
    "def preprocess(text):\n",
    "    text = re.sub(r'\\(.*?\\)', '', text)  # Removes everything inside round brackets, including the brackets themselves\n",
    "    text = re.sub(r'[,.:;!?]', '', text)  # Removes punctuation marks (comma, period, colon, semicolon, exclamation mark, and question mark)\n",
    "\n",
    "    return text.strip().lower()"
   ]
  },
  {
   "cell_type": "code",
   "execution_count": 3,
   "metadata": {},
   "outputs": [],
   "source": [
    "# remove commas from all keywords\n",
    "\n",
    "df['dataset_description_DE'] = df['dataset_description_DE'].map(lambda x: preprocess(str(x)) if pd.notna(x) else x)"
   ]
  },
  {
   "cell_type": "code",
   "execution_count": 7,
   "metadata": {},
   "outputs": [],
   "source": [
    "# removes all duplicate descriptions\n",
    "df.dropna(subset=['dataset_description_DE']) \\\n",
    "  .drop_duplicates(subset=['dataset_description_DE']) \\\n",
    "  .to_csv(\n",
    "      \"data/trainingsdata_description_preprocessed.txt\",\n",
    "      columns=[\"dataset_description_DE\"],\n",
    "      header=None,\n",
    "      index=False\n",
    "  )"
   ]
  },
  {
   "cell_type": "code",
   "execution_count": 8,
   "metadata": {},
   "outputs": [],
   "source": [
    "import fasttext\n",
    "model = fasttext.train_unsupervised(\"data/trainingsdata_description_preprocessed.txt\", dim=300)"
   ]
  },
  {
   "cell_type": "code",
   "execution_count": null,
   "metadata": {},
   "outputs": [],
   "source": [
    "model.save_model(\"data/trained_model.bin\")"
   ]
  }
 ],
 "metadata": {
  "kernelspec": {
   "display_name": "Python 3",
   "language": "python",
   "name": "python3"
  },
  "language_info": {
   "codemirror_mode": {
    "name": "ipython",
    "version": 3
   },
   "file_extension": ".py",
   "mimetype": "text/x-python",
   "name": "python",
   "nbconvert_exporter": "python",
   "pygments_lexer": "ipython3",
   "version": "3.10.10"
  }
 },
 "nbformat": 4,
 "nbformat_minor": 2
}
