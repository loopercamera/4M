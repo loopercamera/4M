{
 "cells": [
  {
   "cell_type": "markdown",
   "metadata": {},
   "source": [
    "## Description\n",
    "This notebook either creates a new CSV file with a mobilitydata_labelled column, or loads an existing one if it already exists.\n",
    "It provides a UI to label each dataset entry, displaying the German title and description. Entries can be labeled, skipped, or the session can be aborted.\n",
    "When \"Abort and Save\" is pressed, the current labeling progress is saved back to the CSV file.\n",
    "\n",
    "#### Improvments to consider\n",
    "- None for now, except possibly reusing the same notebook for other languages \n",
    "\n",
    "The code was created with the assistance of ChatGPT-4."
   ]
  },
  {
   "cell_type": "code",
   "execution_count": 1,
   "metadata": {},
   "outputs": [],
   "source": [
    "import os\n",
    "import pandas as pd\n",
    "import random\n",
    "from IPython.display import display, clear_output\n",
    "import ipywidgets as widgets\n",
    "\n",
    "inputdata_file = 'data/02_extracted_keywords_data.csv'\n",
    "labelling_file ='data/03_labelled_data.csv'"
   ]
  },
  {
   "cell_type": "code",
   "execution_count": 2,
   "metadata": {},
   "outputs": [
    {
     "name": "stdout",
     "output_type": "stream",
     "text": [
      "Target file already exists: data/03_labelled_data.csv\n"
     ]
    }
   ],
   "source": [
    "# creates new csv with new column for labelling, if not already exists\n",
    "\n",
    "def copy_csv(original_path, new_path):\n",
    "    if not os.path.exists(original_path):\n",
    "        print(f\"Original file not found: {original_path}\")\n",
    "        return\n",
    "    if os.path.exists(new_path):\n",
    "        print(f\"Target file already exists: {new_path}\")\n",
    "        return\n",
    "    \n",
    "    # Load original CSV\n",
    "    df = pd.read_csv(original_path, low_memory=False)\n",
    "\n",
    "    # Add empty label column\n",
    "    df[\"mobilitydata_labelled\"] = None\n",
    "\n",
    "    # Save to new CSV\n",
    "    df.to_csv(new_path, index=False)\n",
    "    print(f\"File copied and modified: {new_path}\")\n",
    "\n",
    "# Example usage\n",
    "copy_csv(inputdata_file, labelling_file)"
   ]
  },
  {
   "cell_type": "code",
   "execution_count": 3,
   "metadata": {},
   "outputs": [
    {
     "data": {
      "application/vnd.jupyter.widget-view+json": {
       "model_id": "1670e4ced852485392c4602ae30d2711",
       "version_major": 2,
       "version_minor": 0
      },
      "text/plain": [
       "VBox(children=(Output(), HTML(value='<b>Is this data set mobility data?</b>'), HBox(children=(Button(button_st…"
      ]
     },
     "metadata": {},
     "output_type": "display_data"
    }
   ],
   "source": [
    "# load csv into dataframe\n",
    "df = pd.read_csv(labelling_file, low_memory=False)\n",
    "\n",
    "# Columns\n",
    "title_column = \"dataset_title_DE\"\n",
    "description_column = \"dataset_description_DE\"\n",
    "font_family = \"Arial\"\n",
    "\n",
    "# Widgets\n",
    "output = widgets.Output()\n",
    "label_buttons = widgets.HBox()\n",
    "question_text = widgets.HTML(\"<b>Is this data set mobility data?</b>\")\n",
    "progress = widgets.Label()\n",
    "current_index = None\n",
    "aborted = False\n",
    "\n",
    "# Get next index\n",
    "def get_next_index():\n",
    "    unlabelled = df[df[\"mobilitydata_labelled\"].isnull()]\n",
    "    if not unlabelled.empty:\n",
    "        return random.choice(unlabelled.index.tolist())\n",
    "    return None\n",
    "\n",
    "# Label and move on\n",
    "def label_and_next(value):\n",
    "    global current_index\n",
    "    if current_index is not None:\n",
    "        df.at[current_index, \"mobilitydata_labelled\"] = value\n",
    "    show_next()\n",
    "\n",
    "# Skip\n",
    "def skip(_):\n",
    "    show_next()\n",
    "\n",
    "# Abort\n",
    "# Abort\n",
    "def abort(_):\n",
    "    global aborted\n",
    "    aborted = True\n",
    "    container.children = []  # remove all UI elements\n",
    "    df.to_csv(labelling_file, index=False)  # write dataframe in new csv-File\n",
    "    \n",
    "# Show current row\n",
    "def show_next():\n",
    "    global current_index\n",
    "    if aborted:\n",
    "        return\n",
    "    current_index = get_next_index()\n",
    "    with output:\n",
    "        clear_output(wait=True)\n",
    "        if current_index is None:\n",
    "            print(\"All rows have been labelled. Congratulations, you have successfully put too much time into labelling :)\")\n",
    "            # display(df)  # optional\n",
    "        else:\n",
    "            row = df.loc[current_index]\n",
    "            print(f\"Row {current_index}\\n\")\n",
    "\n",
    "            # Title\n",
    "            if title_column in row:\n",
    "                title_html = f\"\"\"\n",
    "                <div style=\"\n",
    "                    font-family:{font_family};\n",
    "                    font-size:12px;\n",
    "                    font-weight:bold;\n",
    "                    border:1px solid #ccc;\n",
    "                    padding:10px;\n",
    "                    margin-bottom:10px;\n",
    "                    background-color:#f9f9f9;\">\n",
    "                    {row[title_column]}\n",
    "                </div>\n",
    "                \"\"\"\n",
    "                display(widgets.HTML(f\"<b>{title_column}:</b>\"))\n",
    "                display(widgets.HTML(title_html))\n",
    "\n",
    "            # Description\n",
    "            if description_column in row:\n",
    "                desc_html = f\"\"\"\n",
    "                <div style=\"\n",
    "                    font-family:{font_family};\n",
    "                    font-size:12px;\n",
    "                    border:1px solid #ccc;\n",
    "                    padding:10px;\n",
    "                    height:120px;\n",
    "                    overflow-y:auto;\n",
    "                    background-color:#f9f9f9;\">\n",
    "                    {row[description_column]}\n",
    "                </div>\n",
    "                \"\"\"\n",
    "                display(widgets.HTML(f\"<b>{description_column}:</b>\"))\n",
    "                display(widgets.HTML(desc_html))\n",
    "\n",
    "    # Progress update must be *outside* the output block\n",
    "    progress.value = f\"Labelled: {df['mobilitydata_labelled'].notnull().sum()} / {len(df)}\"\n",
    "\n",
    "# Buttons\n",
    "btn_yes = widgets.Button(description=\"Yes\", button_style=\"success\")\n",
    "btn_no = widgets.Button(description=\"No\", button_style=\"danger\")\n",
    "btn_skip = widgets.Button(description=\"Skip\", button_style=\"info\")\n",
    "btn_abort = widgets.Button(description=\"Abort and Save\", button_style=\"warning\")\n",
    "\n",
    "btn_yes.on_click(lambda x: label_and_next(True))\n",
    "btn_no.on_click(lambda x: label_and_next(False))\n",
    "btn_skip.on_click(skip)\n",
    "btn_abort.on_click(abort)\n",
    "\n",
    "label_buttons.children = [btn_yes, btn_no, btn_skip, btn_abort]\n",
    "\n",
    "# Container for all widgets\n",
    "container = widgets.VBox()\n",
    "\n",
    "# Start UI\n",
    "container.children = [output, question_text, label_buttons, progress]\n",
    "display(container)\n",
    "show_next()"
   ]
  },
  {
   "cell_type": "code",
   "execution_count": null,
   "metadata": {},
   "outputs": [],
   "source": []
  }
 ],
 "metadata": {
  "kernelspec": {
   "display_name": "bth",
   "language": "python",
   "name": "python3"
  },
  "language_info": {
   "codemirror_mode": {
    "name": "ipython",
    "version": 3
   },
   "file_extension": ".py",
   "mimetype": "text/x-python",
   "name": "python",
   "nbconvert_exporter": "python",
   "pygments_lexer": "ipython3",
   "version": "3.10.10"
  }
 },
 "nbformat": 4,
 "nbformat_minor": 2
}
