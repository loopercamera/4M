{
 "cells": [
  {
   "cell_type": "markdown",
   "metadata": {},
   "source": [
    "## Description\n",
    "In this notebook, the keywords of the German titles and descriptions of each entry is performed. The extraced keywords are than combined with the german keywords into one entry.\n",
    "\n",
    "#### Improvments to consider\n",
    "- Entries without any valid text are deleted, so currently, only German datasets are retained.\n",
    "- The used keyword extractor does support different languages, which should be included later.\n",
    "- No longer used columns could be dropped at the end.\n",
    "\n",
    "The code was created with the assistance of ChatGPT-4."
   ]
  },
  {
   "cell_type": "code",
   "execution_count": null,
   "metadata": {},
   "outputs": [
    {
     "name": "stderr",
     "output_type": "stream",
     "text": [
      "[nltk_data] Downloading package stopwords to\n",
      "[nltk_data]     C:\\Users\\haabs\\AppData\\Roaming\\nltk_data...\n",
      "[nltk_data]   Package stopwords is already up-to-date!\n"
     ]
    }
   ],
   "source": [
    "from sklearn.feature_extraction.text import TfidfVectorizer\n",
    "from nltk.corpus import stopwords\n",
    "import nltk\n",
    "import pandas as pd\n",
    "import re\n",
    "import ast\n",
    "\n",
    "nltk.download('stopwords')\n",
    "\n",
    "inputdata_file = 'data/01_preprocessed_data.csv'\n",
    "outputdata_file ='data/02_extracted_keywords_data.csv'\n",
    "\n",
    "df = pd.read_csv(inputdata_file, low_memory=False)\n",
    "\n",
    "df['dataset_keyword_DE'] = df['dataset_keyword_DE'].apply(\n",
    "    lambda x: ast.literal_eval(x) if isinstance(x, str) else ([] if pd.isna(x) else x)\n",
    ")"
   ]
  },
  {
   "cell_type": "code",
   "execution_count": 18,
   "metadata": {},
   "outputs": [],
   "source": [
    "# function to extract keywords (the output of the score is currently disabled)\n",
    "\n",
    "def extract_keywords_tfidf(docs, language='german', top_n=1000):\n",
    "    # using top_n as parameter to set maximum keywords to be extracted\n",
    "    # german as default language\n",
    "    \n",
    "    stop_words = stopwords.words(language)\n",
    "\n",
    "    # keep words combined with - or . \n",
    "    token_pattern = r'\\b[a-zA-ZäöüÄÖÜß][a-zA-Z0-9äöüÄÖÜß\\.-]*\\b'\n",
    "\n",
    "    vectorizer = TfidfVectorizer(stop_words=stop_words, lowercase=True, token_pattern=token_pattern)\n",
    "\n",
    "    tfidf_matrix = vectorizer.fit_transform(docs)\n",
    "    feature_names = vectorizer.get_feature_names_out()\n",
    "\n",
    "    results = []\n",
    "\n",
    "    for doc_idx in range(tfidf_matrix.shape[0]):\n",
    "        row = tfidf_matrix[doc_idx].tocoo()\n",
    "        word_scores = [(feature_names[i], score) for i, score in zip(row.col, row.data)]\n",
    "        top_keywords = [word for word, _ in sorted(word_scores, key=lambda x: x[1], reverse=True)[:top_n]]\n",
    "        results.append(top_keywords)\n",
    "\n",
    "    return results"
   ]
  },
  {
   "cell_type": "code",
   "execution_count": 19,
   "metadata": {},
   "outputs": [],
   "source": [
    "# Define the columns to which the function should be applied\n",
    "text_columns = ['dataset_title_DE_preprocessed', 'dataset_description_DE_preprocessed']  # <- Adjust column names if needed\n",
    "\n",
    "# Extract keywords and add them as new columns\n",
    "for col in text_columns:\n",
    "    df[f'{col}_keywords'] = extract_keywords_tfidf(df[col].fillna(''), language='german')"
   ]
  },
  {
   "cell_type": "code",
   "execution_count": 20,
   "metadata": {},
   "outputs": [],
   "source": [
    "# Function to preprocess the keywords and combine those, also duplicate keywords are dropped!\n",
    "# Combines title, description, and keyword list into a single cleaned string of unique keywords. Removes punctuation, converts to lowercase, and eliminates duplicates.\n",
    "\n",
    "def generate_cleaned_keyword_string(title_DE, description_DE, keyword_DE):\n",
    "\n",
    "    # Convert NaNs to empty strings\n",
    "    title_DE = str(title_DE) if pd.notna(title_DE) else ''\n",
    "    description_DE = str(description_DE) if pd.notna(description_DE) else ''\n",
    "\n",
    "    # Parse the keyword list string safely\n",
    "    try:\n",
    "        keyword_list = ast.literal_eval(keyword_DE) if pd.notna(keyword_DE) else []\n",
    "        if not isinstance(keyword_list, list):\n",
    "            keyword_list = []\n",
    "    except:\n",
    "        keyword_list = []\n",
    "\n",
    "    # Combine all parts into one list of words\n",
    "    combined_text = f\"{title_DE} {description_DE} {' '.join(keyword_list)}\"\n",
    "    word_list = combined_text.split()\n",
    "\n",
    "    # Remove duplicates while preserving order\n",
    "    unique_words = list(dict.fromkeys(word_list))\n",
    "\n",
    "    # Join the list into a string\n",
    "    text = ' '.join(unique_words)\n",
    "\n",
    "    # Remove specified punctuation\n",
    "    text = re.sub(r'[.,\\-;:!\\'?\\[\\]]', '', text)\n",
    "\n",
    "    # Normalize whitespace and lowercase\n",
    "    text = re.sub(r'\\s+', ' ', text).strip().lower()\n",
    "\n",
    "    return text"
   ]
  },
  {
   "cell_type": "code",
   "execution_count": null,
   "metadata": {},
   "outputs": [],
   "source": [
    "def generate_cleaned_keyword_string(title_DE, description_DE, keywords_DE):\n",
    "    # combine the three lists to one\n",
    "    combined = title_DE + description_DE + keywords_DE\n",
    "    # remove duplicates\n",
    "    combined = list(set(combined))\n",
    "    return combined\n",
    "\n",
    "df['combined_DE_keywords'] = df.apply(\n",
    "    lambda row: generate_cleaned_keyword_string(\n",
    "        row['dataset_title_DE_preprocessed_keywords'],\n",
    "        row['dataset_description_DE_preprocessed_keywords'],\n",
    "        row['dataset_keyword_DE']\n",
    "    ),\n",
    "    axis=1\n",
    ")"
   ]
  },
  {
   "cell_type": "code",
   "execution_count": 25,
   "metadata": {},
   "outputs": [
    {
     "name": "stdout",
     "output_type": "stream",
     "text": [
      "The file has been successfully saved as data/02_extracted_keywords_data.csv.\n"
     ]
    }
   ],
   "source": [
    "# Write dataframe in new csv-File\n",
    "df.to_csv(outputdata_file, index=False)\n",
    "\n",
    "print(f'The file has been successfully saved as {outputdata_file}.')"
   ]
  }
 ],
 "metadata": {
  "kernelspec": {
   "display_name": "Python 3",
   "language": "python",
   "name": "python3"
  },
  "language_info": {
   "codemirror_mode": {
    "name": "ipython",
    "version": 3
   },
   "file_extension": ".py",
   "mimetype": "text/x-python",
   "name": "python",
   "nbconvert_exporter": "python",
   "pygments_lexer": "ipython3",
   "version": "3.10.10"
  }
 },
 "nbformat": 4,
 "nbformat_minor": 2
}
