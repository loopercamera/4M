{
 "cells": [
  {
   "cell_type": "markdown",
   "metadata": {},
   "source": [
    "## Description\n",
    "In this Notebook the gensim/fasttext modell is used and trained. By the help of genism its possible to extend an existing model. But similar to the test from fasttext the model was overfitted afterwards.\n",
    "\n",
    "#### Result\n",
    "Preprocessing (Stemming eg.) worked good for the dataset. But the data seems not to be good for fine-tuning an existing modell. Afterwards the model was always overfitted, even after changing the training settings (different training rate etc.). Other approaches should be figured out.\n",
    "\n",
    "The code was created with the assistance of ChatGPT-4."
   ]
  },
  {
   "cell_type": "code",
   "execution_count": null,
   "metadata": {},
   "outputs": [
    {
     "name": "stderr",
     "output_type": "stream",
     "text": [
      "C:\\Users\\haabs\\AppData\\Local\\Temp\\ipykernel_40852\\660162028.py:3: DeprecationWarning: Call to deprecated `load_fasttext_format` (use load_facebook_vectors (to use pretrained embeddings) or load_facebook_model (to continue training with the loaded full model, more RAM) instead).\n",
      "  model = FastText.load_fasttext_format('../01_Fasttext/data/cc.de.300.bin')\n"
     ]
    }
   ],
   "source": [
    "from gensim.models import FastText\n",
    "\n",
    "model = FastText.load_fasttext_format('../01_Fasttext/data/cc.de.300.bin')"
   ]
  },
  {
   "cell_type": "code",
   "execution_count": null,
   "metadata": {},
   "outputs": [
    {
     "name": "stdout",
     "output_type": "stream",
     "text": [
      "Vor dem Training:\n",
      "Mobiliät: 0.7578666806221008\n",
      "Mobiltät: 0.7152034044265747\n",
      "Automobilität: 0.6963497400283813\n",
      "Alltagsmobilität: 0.6879281997680664\n",
      "mobilität: 0.6839116215705872\n",
      "Mobilitätskultur: 0.6754208207130432\n",
      "Mobilitätsformen: 0.6675264835357666\n",
      "Mitarbeitermobilität: 0.6643045544624329\n",
      "Mobilitäten: 0.6508032083511353\n",
      "Immobilität: 0.6439169049263\n"
     ]
    }
   ],
   "source": [
    "# Example: Similar words to \"Auto\" before training\n",
    "similar_words_before = model.wv.most_similar(\"Mobilität\", topn=10)\n",
    "print(\"Vor dem Training:\")\n",
    "for word, similarity in similar_words_before:\n",
    "    print(f\"{word}: {similarity}\")\n"
   ]
  },
  {
   "cell_type": "code",
   "execution_count": null,
   "metadata": {},
   "outputs": [
    {
     "name": "stdout",
     "output_type": "stream",
     "text": [
      "['bern', 'ist', 'grün', 'und', 'vernetzt', 'ist', 'eine', 'illustrationskarte', 'aus', 'dem', 'räumlichen', 'stadtentwicklungskonzept', 'der', 'stadt', 'bern']\n",
      "['bern', 'lebt', 'in', 'quartieren', 'ist', 'eine', 'illustrationskarte', 'aus', 'dem', 'räumlichen', 'stadtentwicklungskonzept', 'der', 'stadt', 'bern']\n",
      "['bern', 'wächst', 'dynamisch', 'ist', 'eine', 'illustrationskarte', 'aus', 'dem', 'räumlichen', 'stadtentwicklungskonzept', 'der', 'stadt', 'bern']\n",
      "['mountainbikeland', 'schweiz', 'von', 'schweizmobil', 'umfasst', 'die', 'nationalen', 'regionalen', 'und', 'lokalen', 'mountainbikerouten', 'der', 'schweiz', 'sowie', 'des', 'fürstentums', 'liechtenstein', 'dieser', 'datensatz', 'wird', 'gemäss', 'geoinformationsverordnung', 'als', 'teil', 'des', 'geobasisdatensatz', 'velowegnetze', 'publiziert', 'er', 'wird', 'in', 'zusammenarbeit', 'mit', 'dem', 'bundesamt', 'für', 'strassen', 'astra', 'schweizmobil', 'und', 'den', 'kantonen', 'erarbeitet']\n",
      "['skatingland', 'schweiz', 'von', 'schweizmobil', 'umfasst', 'die', 'nationalen', 'regionalen', 'und', 'lokalen', 'skatingrouten', 'der', 'schweiz', 'und', 'des', 'fürstentums', 'liechtenstein', 'dieser', 'datensatz', 'wird', 'gemäss', 'geoinformationsverordnung', 'als', 'teil', 'des', 'geobasisdatensatz', 'velowegnetze', 'publiziert', 'er', 'wird', 'in', 'zusammenarbeit', 'mit', 'dem', 'bundesamt', 'für', 'strassen', 'astra', 'schweizmobil', 'und', 'den', 'kantonen', 'erarbeitet']\n",
      "['tempo', 'zone', 'bezeichnet', 'strassen', 'in', 'quartieren', 'oder', 'siedlungsbereichen', 'auf', 'denen', 'besonders', 'vorsichtig', 'und', 'rücksichtsvoll', 'gefahren', 'werden', 'muss', 'die', 'höchstgeschwindigkeit', 'beträgt', 'km', 'begegnungszone', 'bezeichnet', 'strassen', 'in', 'wohn', 'oder', 'geschäftsbereichen', 'auf', 'denen', 'die', 'fussgänger', 'und', 'benutzer', 'von', 'fahrzeugähnlichen', 'geräten', 'die', 'ganze', 'verkehrsfläche', 'benützen', 'dürfen', 'sie', 'sind', 'gegenüber', 'den', 'fahrzeugfahrern', 'vortrittsberechtigt', 'dürfen', 'jedoch', 'die', 'fahrzeuge', 'nicht', 'unnötig', 'behindern', 'die', 'höchstgeschwindigkeit', 'beträgt', 'km', 'das', 'parkieren', 'ist', 'nur', 'an', 'den', 'durch', 'signale', 'oder', 'markierungen', 'gekennzeichneten', 'stellen', 'erlaubt', 'für', 'das', 'abstellen', 'von', 'fahrrädern', 'gelten', 'die', 'allgemeinen', 'vorschriften', 'über', 'das', 'parkieren']\n",
      "['uebersichtsplan', 'der', 'gemeinde', 'horgen', 'nach', 'dem', 'von', 'jngenieur', 'schneiter', 'im', 'jahr', 'aufgenommenen', 'gemeindeplan', 'gezeichnet', 'und', 'ergänzt', 'anfangs', 'von', 'hüni', 'jngenieur', 'in', 'horgen', 'der', 'plan', 'zeigt', 'die', 'eröffnete', 'linksufrige', 'zürichseebahn', 'vom', 'zürcher', 'hauptbahnhof', 'über', 'ziegelbrücke', 'nach', 'näfels', 'quelle', 'planarchiv', 'der', 'gemeinde', 'horgen']\n",
      "['veloland', 'schweiz', 'von', 'schweizmobil', 'umfasst', 'die', 'nationalen', 'regionalen', 'und', 'lokalen', 'velorouten', 'der', 'schweiz', 'sowie', 'des', 'fürstentums', 'liechtenstein', 'dieser', 'datensatz', 'wird', 'gemäss', 'geoinformationsverordnung', 'als', 'teil', 'des', 'geobasisdatensatz', 'velowegnetze', 'publiziert', 'er', 'wird', 'in', 'zusammenarbeit', 'mit', 'dem', 'bundesamt', 'für', 'strassen', 'astra', 'schweizmobil', 'und', 'den', 'kantonen', 'erarbeitet']\n",
      "['wanderland', 'schweiz', 'von', 'schweizmobil', 'umfasst', 'die', 'nationalen', 'regionalen', 'und', 'lokalen', 'wander', 'und', 'bergwanderrouten', 'sowie', 'die', 'hindernisfreien', 'wege', 'der', 'schweiz', 'und', 'des', 'fürstentums', 'liechtenstein', 'dieser', 'datensatz', 'wird', 'gemäss', 'geoinformationsverordnung', 'als', 'teil', 'des', 'geobasisdatensatz', 'fuss', 'und', 'wanderwegnetze', 'publiziert', 'er', 'wird', 'in', 'zusammenarbeit', 'mit', 'dem', 'bundesamt', 'für', 'strassen', 'astra', 'den', 'schweizer', 'wanderwegen', 'schweizmobil', 'und', 'den', 'kantonen', 'erarbeitet']\n",
      "['daten', 'und', 'metadaten', 'die', 'digitalisate', 'der', 'zürcher', 'nachtzedel', 'wurden', 'zwischen', 'und', 'im', 'digitalisierungszentrum', 'der', 'zentralbibliothek', 'zürich', 'angefertigt', 'und', 'werden', 'auf', 'der', 'plattform', 'manuscripta', 'veröffentlicht', 'im', 'vorliegenden', 'datenset', 'befinden', 'sich', 'die', 'bisher', 'auf', 'manuscripta', 'veröffentlichten', 'daten', 'sie', 'betreffen', 'die', 'jahrgänge', 'bis', 'die', 'auch', 'für', 'spätere', 'jahrgänge', 'der', 'nachtzedel', 'repräsentativ', 'sind', 'im', 'ordner', 'data', 'finden', 'sie', 'die', 'digitalisate', 'als', 'jpeg', 'dateien', 'in', 'maximaler', 'qualität', 'sie', 'wurden', 'von', 'manuscripta', 'heruntergeladen', 'wo', 'sie', 'als', 'jahrgangsdossiers', 'zur', 'verfügung', 'gestellt', 'sind', 'und', 'anschliessend', 'nach', 'monaten', 'im', 'iso', 'format', 'geordnet', 'die', 'downloadlinks', 'sowie', 'die', 'innere', 'ordnung', 'sind', 'aus', 'den', 'mets', 'metadaten', 'für', 'die', 'jeweiligen', 'jahrgangsdossiers', 'entnommen', 'die', 'sie', 'im', 'ordner', 'metadata', 'finden', 'die', 'mets', 'xml', 'dateien', 'stammen', 'von', 'der', 'oai', 'schnittstelle', 'von', 'manuscripta', 'link', 'zum', 'katalog', 'eintrag', 'aller', 'nachtzedel', 'in', 'lkr', 'in', 'zbcollections', 'link', 'zu', 'den', 'bereits', 'publizierten', 'nachtzedeln', 'auf', 'manuscripta', 'ch', 'geschichte', 'und', 'kontext', 'der', 'nachtzedel', 'in', 'zürich', 'war', 'der', 'rat', '–', 'wie', 'in', 'anderen', 'städten', 'auch', '–', 'seit', 'dem', 'jahrhundert', 'darum', 'besorgt', 'zu', 'kontrollieren', 'welche', 'fremden', 'in', 'den', 'gasthäusern', 'der', 'stadt', 'quartier', 'nahmen', 'ab', 'musste', 'zunächst', 'der', 'rathausknecht', 'später', 'ein', 'eigens', 'angestellter', 'nachtschreiber', 'jeden', 'abend', 'die', 'gasthöfe', 'aufsuchen', 'um', 'deren', 'logiergäste', 'namentlich', 'zu', 'erfassen', 'das', 'ergebnis', 'dieser', 'bemühungen', 'die', 'so', 'genannten', 'nachtzedel', 'stellen', 'heute', 'eine', 'überaus', 'interessante', 'quelle', 'dar', 'nicht', 'nur', 'lassen', 'sich', 'die', 'anwesenheiten', 'berühmter', 'zeitgenossen', 'wie', 'goethe', 'oder', 'hölderlin', 'auf', 'den', 'tag', 'genau', 'nachweisen', 'vielmehr', 'können', 'auch', 'sozialgeschichtliche', 'fragestellungen', 'durch', 'eine', 'statistische', 'auswertung', 'der', 'daten', 'beantwortet', 'werden', 'leider', 'haben', 'sich', 'von', 'den', 'zürcher', 'nachtzedeln', 'von', 'bis', 'nur', 'wenige', 'jahrgänge', 'überhaupt', 'erhalten', 'und', 'zwar', 'nach', 'heutigem', 'kenntnisstand', 'ausschliesslich', 'in', 'der', 'zentralbibliothek', 'zürich', 'ab', 'führte', 'der', 'nachtschreiber', 'johann', 'konrad', 'ulrich', 'eine', 'neuerung', 'ein', 'er', 'fertigte', 'die', 'zettel', 'im', 'druck', 'an', 'dafür', 'hatte', 'er', 'sich', 'eigens', 'die', 'entsprechenden', 'werkzeuge', 'und', 'lettern', 'besorgt', 'dieses', 'verfahren', 'hatte', 'zwei', 'grosse', 'vorteile', 'der', 'nachtschreiber', 'musste', 'so', 'wenn', 'er', 'den', 'satz', 'stehenliess', 'nur', 'jeweils', 'die', 'neu', 'angereisten', 'und', 'die', 'abgereisten', 'personen', 'einfügen', 'bzw', 'herausnehmen', 'zugleich', 'konnten', 'so', 'problemlos', 'mehrere', 'kopien', 'angefertigt', 'werden', 'manchmal', 'muss', 'allerdings', 'die', 'technik', 'versagt', 'haben', 'da', 'für', 'einzelne', 'tage', 'nur', 'handgeschriebene', 'zettel', 'überliefert', 'sind', 'die', 'nachtzedel', 'waren', 'bisher', 'nicht', 'publiziert', 'sie', 'sind', 'zwar', 'im', 'katalog', 'der', 'zentralbibliothek', 'aufgeführt', 'aber', 'trotzdem', 'nur', 'wenigen', 'spezialisten', 'bekannt', 'da', 'sie', 'in', 'der', 'literatur', 'fast', 'nie', 'erwähnt', 'werden', 'die', 'forschung', 'dürfte', 'von', 'einer', 'digitalen', 'bereitstellung', 'dieser', 'interessanten', 'quelle', 'in', 'erheblichem', 'mass', 'profitieren', 'es', 'handelt', 'sich', 'um', 'kästen', 'mit', 'zetteln', 'aus', 'den', 'jahren', 'und', 'pro', 'tag', 'liegt', 'ein', 'zettel', 'vor', 'teilweise', 'fehlen', 'einzelne', 'zettel', 'oder', 'auch', 'grössere', 'zeitabschnitte', 'insgesamt', 'dürfte', 'es', 'sich', 'um', 'ca', 'zettel', 'handeln', 'die', 'druckqualität', 'ist', 'in', 'vielen', 'fällen', 'hervorragend', 'häufig', 'allerdings', 'auch', 'eher', 'mittelmässig', 'dennoch', 'dürfte', 'eine', 'ocr', 'gute', 'ergebnisse', 'bringen', 'ca', 'der', 'zettel', 'liegen', 'dagegen', 'handschriftlich', 'vor']\n"
     ]
    }
   ],
   "source": [
    "import pandas as pd\n",
    "# Example of custom sentences for further training of the model\n",
    "df = pd.read_csv(\"data/dataset_descriptions_preprocessed.txt\")  # Replace \"deine_datei.csv\" with the actual file path\n",
    "\n",
    "# Convert the sentences from the columns into a list format for FastText\n",
    "sentences = []\n",
    "for col in df.columns:\n",
    "    # Each cell in the column is treated as a list of words (tokens)\n",
    "    for sentence in df[col].dropna():  # .dropna() removes empty cells\n",
    "        sentences.append(sentence.split())  # Split the sentence into words and add it to the list\n",
    "\n",
    "# Test: Are your words correctly processed?\n",
    "for sentence in sentences[:10]:  # Show the first 10 tokenized sentences\n",
    "    print(sentence)"
   ]
  },
  {
   "cell_type": "code",
   "execution_count": null,
   "metadata": {},
   "outputs": [
    {
     "data": {
      "text/plain": [
       "(1511321, 5244420)"
      ]
     },
     "execution_count": 9,
     "metadata": {},
     "output_type": "execute_result"
    }
   ],
   "source": [
    "# Update the model with new vocabulary and sentence structures\n",
    "model.build_vocab(sentences, update=True)  # Update vocabulary\n",
    "\n",
    "model.alpha = 0.05  # Adjust initial learning rate\n",
    "model.min_alpha = 0.05  # Set minimum learning rate\n",
    "model.train(sentences, total_examples=len(sentences), epochs=10)"
   ]
  },
  {
   "cell_type": "code",
   "execution_count": null,
   "metadata": {},
   "outputs": [
    {
     "name": "stdout",
     "output_type": "stream",
     "text": [
      "\n",
      "Nach dem Training:\n",
      "eMobilität: 0.9988993406295776\n",
      "e-Mobilität: 0.9987004995346069\n",
      "GaseMobilität: 0.9982609152793884\n",
      "Nobilität: 0.9979896545410156\n",
      "E-Mobilität: 0.9979241490364075\n",
      "WohnenMobilität: 0.994684100151062\n",
      "bilität: 0.9895988702774048\n",
      "Flexbilität: 0.9885423183441162\n",
      "Debilität: 0.986996591091156\n",
      "PflegeMobilität: 0.9811707139015198\n"
     ]
    }
   ],
   "source": [
    "# Example: Similar words to \"Auto\" after training\n",
    "similar_words_after = model.wv.most_similar(\"Mobilität\", topn=10)\n",
    "print(\"\\nNach dem Training:\")\n",
    "for word, similarity in similar_words_after:\n",
    "    print(f\"{word}: {similarity}\")\n"
   ]
  },
  {
   "cell_type": "code",
   "execution_count": null,
   "metadata": {},
   "outputs": [],
   "source": [
    "# safe trained model\n",
    "model.save(\"data/erweitertes_fasttext_model.bin\")\n",
    " "
   ]
  }
 ],
 "metadata": {
  "kernelspec": {
   "display_name": "Python 3",
   "language": "python",
   "name": "python3"
  },
  "language_info": {
   "codemirror_mode": {
    "name": "ipython",
    "version": 3
   },
   "file_extension": ".py",
   "mimetype": "text/x-python",
   "name": "python",
   "nbconvert_exporter": "python",
   "pygments_lexer": "ipython3",
   "version": "3.10.10"
  }
 },
 "nbformat": 4,
 "nbformat_minor": 2
}
