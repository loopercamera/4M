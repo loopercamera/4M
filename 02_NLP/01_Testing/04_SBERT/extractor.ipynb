{
 "cells": [
  {
   "cell_type": "markdown",
   "metadata": {},
   "source": [
    "## Description\n",
    "This code takes 100 random lines to test the BERT_Sentence_transformer.ipynb\n",
    "\n",
    "The code was created with the assistance of ChatGPT-4."
   ]
  },
  {
   "cell_type": "code",
   "execution_count": null,
   "metadata": {},
   "outputs": [],
   "source": [
    "import random\n",
    "\n",
    "def extract_random_lines(input_file: str, output_file: str, num_lines: int = 100):\n",
    "    # Read all lines from the input file\n",
    "    with open(input_file, 'r', encoding='utf-8') as file:\n",
    "        lines = file.readlines()\n",
    "    \n",
    "    # Check if the file has enough lines\n",
    "    if len(lines) < num_lines:\n",
    "        raise ValueError(f\"The file only contains {len(lines)} lines. Please choose a smaller num_lines value.\")\n",
    "    \n",
    "    # Randomly select 100 lines without repetition\n",
    "    random_lines = random.sample(lines, num_lines)\n",
    "    \n",
    "    # Write the selected lines to a new file\n",
    "    with open(output_file, 'w', encoding='utf-8') as file:\n",
    "        file.writelines(random_lines)\n",
    "\n",
    "# Example call\n",
    "input_file = '../02_Gensim_Fasttext/data/dataset_descriptions_preprocessed.txt'  # Path to the input file\n",
    "output_file = 'random_lines.txt'  # Path to the output file\n",
    "\n",
    "extract_random_lines(input_file, output_file)\n"
   ]
  }
 ],
 "metadata": {
  "kernelspec": {
   "display_name": "Python 3",
   "language": "python",
   "name": "python3"
  },
  "language_info": {
   "codemirror_mode": {
    "name": "ipython",
    "version": 3
   },
   "file_extension": ".py",
   "mimetype": "text/x-python",
   "name": "python",
   "nbconvert_exporter": "python",
   "pygments_lexer": "ipython3",
   "version": "3.10.10"
  }
 },
 "nbformat": 4,
 "nbformat_minor": 2
}
