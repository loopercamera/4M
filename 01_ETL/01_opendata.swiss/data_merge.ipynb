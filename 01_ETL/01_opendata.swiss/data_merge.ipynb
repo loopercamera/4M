{
 "cells": [
  {
   "cell_type": "code",
   "execution_count": 18,
   "metadata": {},
   "outputs": [
    {
     "name": "stdout",
     "output_type": "stream",
     "text": [
      "Saved merged metadata to merged_metadata.csv\n"
     ]
    }
   ],
   "source": [
    "import pandas as pd\n",
    "import requests\n",
    "import datetime\n",
    "import hashlib\n",
    "import json\n",
    "\n",
    "def fetch_metadata(url):\n",
    "    \"\"\"Fetch JSON metadata from an API endpoint.\"\"\"\n",
    "    response = requests.get(url)\n",
    "    response.raise_for_status()\n",
    "    return response.json()\n",
    "\n",
    "def generate_hash(data):\n",
    "    \"\"\"Generate a SHA-256 hash for the dataset metadata.\"\"\"\n",
    "    data_str = json.dumps(data, sort_keys=True)  # Convert JSON to sorted string\n",
    "    return hashlib.sha256(data_str.encode()).hexdigest()  # Compute hash\n",
    "\n",
    "def merge_metadata(dataframes):\n",
    "    \"\"\"Merge multiple metadata DataFrames while preserving all columns.\"\"\"\n",
    "    merged_df = pd.concat(dataframes, ignore_index=True, sort=False)\n",
    "    return merged_df\n",
    "\n",
    "def save_to_csv(df, filename=\"merged_metadata.csv\"):\n",
    "    \"\"\"Save the merged DataFrame to a CSV file.\"\"\"\n",
    "    df.to_csv(filename, index=False)\n",
    "    print(f\"Saved merged metadata to {filename}\")\n",
    "\n",
    "if __name__ == \"__main__\":\n",
    "    # Read dataset names from datasets.csv\n",
    "    datasets_df = pd.read_csv(\"opendata_swiss_datasets.csv\")\n",
    "\n",
    "    # Pick 10 random datasets from the CSV (assuming the dataset names are in the 'Dataset_Name' column)\n",
    "    random_datasets = datasets_df['Dataset_Name'].sample(n=10, random_state=42).tolist()\n",
    "\n",
    "    # List to store dataframes\n",
    "    dataframes = []\n",
    "\n",
    "    # Fetch and store API responses for the 10 random datasets\n",
    "    for dataset in random_datasets:\n",
    "        url = f\"https://ckan.opendata.swiss/api/3/action/package_show?id={dataset}\"\n",
    "        timestamp = datetime.datetime.now().isoformat()\n",
    "\n",
    "        # Fetch metadata\n",
    "        data = fetch_metadata(url)\n",
    "\n",
    "        # Generate hash\n",
    "        dataset_hash = generate_hash(data)\n",
    "\n",
    "        # Normalize JSON and add metadata columns\n",
    "        df = pd.json_normalize(data)\n",
    "        df['Dataset_Name'] = dataset  # Add dataset name column\n",
    "        df['Request_Timestamp'] = timestamp  # Add timestamp column\n",
    "        df['Metadata_Hash'] = dataset_hash  # Add hash column\n",
    "\n",
    "        dataframes.append(df)\n",
    "\n",
    "    # Merge all the dataframes\n",
    "    merged_df = merge_metadata(dataframes)\n",
    "\n",
    "    # Save the merged data to CSV\n",
    "    save_to_csv(merged_df)\n"
   ]
  },
  {
   "cell_type": "markdown",
   "metadata": {},
   "source": [
    "### explode result.resources"
   ]
  },
  {
   "cell_type": "code",
   "execution_count": 21,
   "metadata": {},
   "outputs": [
    {
     "name": "stdout",
     "output_type": "stream",
     "text": [
      "Saved extracted resources to resources_metadata.csv\n"
     ]
    }
   ],
   "source": [
    "import pandas as pd\n",
    "import ast\n",
    "\n",
    "# Read the CSV file\n",
    "df_merged = pd.read_csv(\"merged_metadata.csv\")\n",
    "\n",
    "# Convert 'result.resources' column from string representation to a list of dictionaries\n",
    "df_merged['result.resources'] = df_merged['result.resources'].apply(ast.literal_eval)\n",
    "\n",
    "# Explode the 'result.resources' column while keeping the 'Dataset_Name' column\n",
    "df_resources = df_merged.explode('result.resources')\n",
    "\n",
    "# Convert dictionary entries to separate columns\n",
    "df_resources = df_resources[['Dataset_Name', 'result.resources']].reset_index(drop=True)\n",
    "df_resources = df_resources.join(df_resources.pop('result.resources').apply(pd.Series))\n",
    "\n",
    "\n",
    "\n",
    "# Optionally, save the extracted resource details to a CSV file\n",
    "df_resources.to_csv(\"resources_metadata.csv\", index=False)\n",
    "print(\"Saved extracted resources to resources_metadata.csv\")\n"
   ]
  }
 ],
 "metadata": {
  "kernelspec": {
   "display_name": "base",
   "language": "python",
   "name": "python3"
  },
  "language_info": {
   "codemirror_mode": {
    "name": "ipython",
    "version": 3
   },
   "file_extension": ".py",
   "mimetype": "text/x-python",
   "name": "python",
   "nbconvert_exporter": "python",
   "pygments_lexer": "ipython3",
   "version": "3.9.18"
  }
 },
 "nbformat": 4,
 "nbformat_minor": 2
}
