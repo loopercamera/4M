{
 "cells": [
  {
   "cell_type": "markdown",
   "metadata": {},
   "source": [
    "## Description\n",
    "In this notebook, the preprocessing of the German titles and descriptions of each entry is performed. The cleaned and combined text data will be used for keywordextraction in next step.\n",
    "\n",
    "The code was created with the assistance of ChatGPT-4."
   ]
  },
  {
   "cell_type": "code",
   "execution_count": null,
   "metadata": {},
   "outputs": [
    {
     "name": "stderr",
     "output_type": "stream",
     "text": [
      "C:\\Users\\haabs\\AppData\\Local\\Temp\\ipykernel_41584\\623167834.py:7: DtypeWarning: Columns (2,4,6,7,8,9,10,11,12,13,14,16,33) have mixed types. Specify dtype option on import or set low_memory=False.\n",
      "  df = pd.read_csv(inputdata_file)\n"
     ]
    }
   ],
   "source": [
    "import pandas as pd\n",
    "import re\n",
    "\n",
    "inputdata_file = 'data/merged_dataset_metadata.csv'\n",
    "outputdata_file ='data/01_preprocessed_data.csv'\n",
    "\n",
    "df = pd.read_csv(inputdata_file, low_memory=False)"
   ]
  },
  {
   "cell_type": "code",
   "execution_count": null,
   "metadata": {},
   "outputs": [],
   "source": [
    "# Function for text preprocessing\n",
    "def preprocess_text(text):\n",
    "\n",
    "    # Remove HTML tags\n",
    "    text = re.sub(r'<.*?>', '', text)\n",
    "    # Remove URLs\n",
    "    text = re.sub(r'http[s]?://\\S+', '', text)\n",
    "    # Remove file extensions\n",
    "    text = re.sub(r'\\b\\w+\\.(csv|json|shp|xls|parquet|rdfxml|jsonld|jsonl|dxf|gpkg|turtle)\\b', '', text)\n",
    "    # Remove dashes unless between letters\n",
    "    text = re.sub(r'(?<!\\w)-|-(?!\\w)', '', text)\n",
    "    # Replace symbols with space\n",
    "    text = re.sub(r'\\+[#|]', ' ', text)\n",
    "    # Remove punctuation\n",
    "    text = re.sub(r'[,«»‚’°%*;!?§±\\'\"/„“‘”\\(\\)\\[\\]]', '', text)\n",
    "    text = re.sub(r'(?<=\\s)[.:]|[.:](?=\\s)', '', text)\n",
    "    # Remove words with underscores\n",
    "    text = re.sub(r'\\b\\w*_\\w*\\b', '', text)\n",
    "    # Remove numbers\n",
    "    text = re.sub(r'\\b\\d+\\b', '', text)\n",
    "    # Remove dashes unless between letters\n",
    "    text = re.sub(r'(?<!\\w)-|-(?!\\w)', '', text)\n",
    "    # Remove single characters\n",
    "    text = re.sub(r'\\b\\w\\b', '', text)\n",
    "    # Replace multiple spaces with a single space\n",
    "    text = re.sub(r'\\s+', ' ', text)\n",
    "\n",
    "    return text"
   ]
  },
  {
   "cell_type": "code",
   "execution_count": 43,
   "metadata": {},
   "outputs": [],
   "source": [
    "# preprocess title, description and keyword DE:\n",
    "df['dataset_title_DE_preprocessed'] = df['dataset_title_DE'].map(lambda x: preprocess_text(str(x)) if pd.notna(x) else x)\n",
    "df['dataset_description_DE_preprocessed'] = df['dataset_description_DE'].map(lambda x: preprocess_text(str(x)) if pd.notna(x) else x)\n"
   ]
  },
  {
   "cell_type": "code",
   "execution_count": 44,
   "metadata": {},
   "outputs": [
    {
     "name": "stdout",
     "output_type": "stream",
     "text": [
      "The file has been successfully saved as data/01_preprocessed_data.csv.\n"
     ]
    }
   ],
   "source": [
    "# Write dataframe in new csv-File\n",
    "df.to_csv(outputdata_file, index=False)\n",
    "\n",
    "print(f'The file has been successfully saved as {outputdata_file}.')"
   ]
  },
  {
   "cell_type": "code",
   "execution_count": null,
   "metadata": {},
   "outputs": [],
   "source": [
    " "
   ]
  }
 ],
 "metadata": {
  "kernelspec": {
   "display_name": "Python 3",
   "language": "python",
   "name": "python3"
  },
  "language_info": {
   "codemirror_mode": {
    "name": "ipython",
    "version": 3
   },
   "file_extension": ".py",
   "mimetype": "text/x-python",
   "name": "python",
   "nbconvert_exporter": "python",
   "pygments_lexer": "ipython3",
   "version": "3.10.10"
  }
 },
 "nbformat": 4,
 "nbformat_minor": 2
}
